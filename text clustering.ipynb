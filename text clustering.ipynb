{
 "cells": [
  {
   "cell_type": "code",
   "execution_count": 30,
   "metadata": {},
   "outputs": [],
   "source": [
    "from sklearn.feature_extraction.text import TfidfVectorizer\n",
    "from sklearn.cluster import KMeans\n",
    "from sklearn.metrics import adjusted_rand_score"
   ]
  },
  {
   "cell_type": "code",
   "execution_count": 31,
   "metadata": {},
   "outputs": [
    {
     "name": "stderr",
     "output_type": "stream",
     "text": [
      "/home/varun/.local/lib/python3.6/site-packages/IPython/core/interactiveshell.py:3049: DtypeWarning: Columns (0,2,4,5,8) have mixed types. Specify dtype option on import or set low_memory=False.\n",
      "  interactivity=interactivity, compiler=compiler, result=result)\n"
     ]
    }
   ],
   "source": [
    "import pandas as pd\n",
    "df = pd.read_csv(\"reviews_cleaned.csv\")\n"
   ]
  },
  {
   "cell_type": "code",
   "execution_count": 32,
   "metadata": {},
   "outputs": [
    {
     "data": {
      "text/html": [
       "<div>\n",
       "<style scoped>\n",
       "    .dataframe tbody tr th:only-of-type {\n",
       "        vertical-align: middle;\n",
       "    }\n",
       "\n",
       "    .dataframe tbody tr th {\n",
       "        vertical-align: top;\n",
       "    }\n",
       "\n",
       "    .dataframe thead th {\n",
       "        text-align: right;\n",
       "    }\n",
       "</style>\n",
       "<table border=\"1\" class=\"dataframe\">\n",
       "  <thead>\n",
       "    <tr style=\"text-align: right;\">\n",
       "      <th></th>\n",
       "      <th>listing_id</th>\n",
       "      <th>id</th>\n",
       "      <th>date</th>\n",
       "      <th>reviewer_id</th>\n",
       "      <th>reviewer_name</th>\n",
       "      <th>comments</th>\n",
       "      <th>sentiment</th>\n",
       "      <th>subjectivity</th>\n",
       "      <th>comments_cleaned</th>\n",
       "    </tr>\n",
       "  </thead>\n",
       "  <tbody>\n",
       "    <tr>\n",
       "      <th>0</th>\n",
       "      <td>1419</td>\n",
       "      <td>38924112.0</td>\n",
       "      <td>2015-07-19</td>\n",
       "      <td>11308465.0</td>\n",
       "      <td>Marcela</td>\n",
       "      <td>Having the opportunity of arriving to Alexandr...</td>\n",
       "      <td>0.410104</td>\n",
       "      <td>0.699479</td>\n",
       "      <td>opportunity arriving alexandra house describes...</td>\n",
       "    </tr>\n",
       "    <tr>\n",
       "      <th>1</th>\n",
       "      <td>1419</td>\n",
       "      <td>44791978.0</td>\n",
       "      <td>2015-08-29</td>\n",
       "      <td>9580285.0</td>\n",
       "      <td>Marco</td>\n",
       "      <td>We have no enough words to describe how beauty...</td>\n",
       "      <td>0.266667</td>\n",
       "      <td>0.683333</td>\n",
       "      <td>enough word describe beautyful cozy alexandra ...</td>\n",
       "    </tr>\n",
       "    <tr>\n",
       "      <th>2</th>\n",
       "      <td>1419</td>\n",
       "      <td>45957133.0</td>\n",
       "      <td>2015-09-07</td>\n",
       "      <td>38394721.0</td>\n",
       "      <td>Andrea</td>\n",
       "      <td>The listing was exceptional and an even better...</td>\n",
       "      <td>0.576111</td>\n",
       "      <td>0.717361</td>\n",
       "      <td>listing exceptional even better experience per...</td>\n",
       "    </tr>\n",
       "    <tr>\n",
       "      <th>3</th>\n",
       "      <td>1419</td>\n",
       "      <td>67295154.0</td>\n",
       "      <td>2016-03-28</td>\n",
       "      <td>3515044.0</td>\n",
       "      <td>Shaun</td>\n",
       "      <td>Alexandra's home was amazing and in such a nea...</td>\n",
       "      <td>0.295000</td>\n",
       "      <td>0.563333</td>\n",
       "      <td>alexandra home amazing neat neighbourhood ever...</td>\n",
       "    </tr>\n",
       "    <tr>\n",
       "      <th>4</th>\n",
       "      <td>1419</td>\n",
       "      <td>177702208.0</td>\n",
       "      <td>2017-08-03</td>\n",
       "      <td>13987100.0</td>\n",
       "      <td>Kate</td>\n",
       "      <td>Beautiful home. Very comfortable and clean. Pe...</td>\n",
       "      <td>0.502963</td>\n",
       "      <td>0.740000</td>\n",
       "      <td>beautiful home comfortable clean perfect famil...</td>\n",
       "    </tr>\n",
       "  </tbody>\n",
       "</table>\n",
       "</div>"
      ],
      "text/plain": [
       "  listing_id           id        date  reviewer_id reviewer_name  \\\n",
       "0       1419   38924112.0  2015-07-19   11308465.0       Marcela   \n",
       "1       1419   44791978.0  2015-08-29    9580285.0         Marco   \n",
       "2       1419   45957133.0  2015-09-07   38394721.0        Andrea   \n",
       "3       1419   67295154.0  2016-03-28    3515044.0         Shaun   \n",
       "4       1419  177702208.0  2017-08-03   13987100.0          Kate   \n",
       "\n",
       "                                            comments  sentiment  subjectivity  \\\n",
       "0  Having the opportunity of arriving to Alexandr...   0.410104      0.699479   \n",
       "1  We have no enough words to describe how beauty...   0.266667      0.683333   \n",
       "2  The listing was exceptional and an even better...   0.576111      0.717361   \n",
       "3  Alexandra's home was amazing and in such a nea...   0.295000      0.563333   \n",
       "4  Beautiful home. Very comfortable and clean. Pe...   0.502963      0.740000   \n",
       "\n",
       "                                    comments_cleaned  \n",
       "0  opportunity arriving alexandra house describes...  \n",
       "1  enough word describe beautyful cozy alexandra ...  \n",
       "2  listing exceptional even better experience per...  \n",
       "3  alexandra home amazing neat neighbourhood ever...  \n",
       "4  beautiful home comfortable clean perfect famil...  "
      ]
     },
     "execution_count": 32,
     "metadata": {},
     "output_type": "execute_result"
    }
   ],
   "source": [
    "df.head()"
   ]
  },
  {
   "cell_type": "code",
   "execution_count": 33,
   "metadata": {},
   "outputs": [],
   "source": [
    "df[\"comments_cleaned\"] = df[\"comments_cleaned\"].astype(str)"
   ]
  },
  {
   "cell_type": "code",
   "execution_count": 34,
   "metadata": {},
   "outputs": [],
   "source": [
    "reviews = df[\"comments_cleaned\"]"
   ]
  },
  {
   "cell_type": "code",
   "execution_count": 49,
   "metadata": {},
   "outputs": [
    {
     "data": {
      "text/plain": [
       "609669"
      ]
     },
     "execution_count": 49,
     "metadata": {},
     "output_type": "execute_result"
    }
   ],
   "source": [
    "len(reviews)"
   ]
  },
  {
   "cell_type": "code",
   "execution_count": 50,
   "metadata": {},
   "outputs": [],
   "source": [
    "vectorizer = TfidfVectorizer(stop_words='english')\n",
    "X = vectorizer.fit_transform(reviews)"
   ]
  },
  {
   "cell_type": "code",
   "execution_count": 36,
   "metadata": {},
   "outputs": [
    {
     "data": {
      "text/plain": [
       "<609669x83635 sparse matrix of type '<class 'numpy.float64'>'\n",
       "\twith 9434192 stored elements in Compressed Sparse Row format>"
      ]
     },
     "execution_count": 36,
     "metadata": {},
     "output_type": "execute_result"
    }
   ],
   "source": [
    "X"
   ]
  },
  {
   "cell_type": "code",
   "execution_count": 51,
   "metadata": {},
   "outputs": [
    {
     "data": {
      "text/plain": [
       "KMeans(algorithm='auto', copy_x=True, init='k-means++', max_iter=100,\n",
       "    n_clusters=10, n_init=1, n_jobs=None, precompute_distances='auto',\n",
       "    random_state=None, tol=0.0001, verbose=0)"
      ]
     },
     "execution_count": 51,
     "metadata": {},
     "output_type": "execute_result"
    }
   ],
   "source": [
    "true_k = 10\n",
    "model = KMeans(n_clusters=true_k, init='k-means++', max_iter=100, n_init=1)\n",
    "model.fit(X)"
   ]
  },
  {
   "cell_type": "code",
   "execution_count": 52,
   "metadata": {},
   "outputs": [
    {
     "name": "stdout",
     "output_type": "stream",
     "text": [
      "Top terms per cluster:\n"
     ]
    }
   ],
   "source": [
    "print(\"Top terms per cluster:\")\n",
    "order_centroids = model.cluster_centers_.argsort()[:, ::-1]\n",
    "terms = vectorizer.get_feature_names()\n"
   ]
  },
  {
   "cell_type": "code",
   "execution_count": 69,
   "metadata": {},
   "outputs": [],
   "source": [
    "import pickle\n",
    "pickle.dump(model, open(\"model.bin\",\"wb\"))\n",
    "pickle.dump(order_centroids, open(\"order_centroids.bin\",\"wb\"))\n",
    "pickle.dump(terms, open(\"terms.bin\",\"wb\"))"
   ]
  },
  {
   "cell_type": "code",
   "execution_count": 70,
   "metadata": {},
   "outputs": [
    {
     "name": "stdout",
     "output_type": "stream",
     "text": [
      "-rw-r--r-- 1 varun varun 9130099 Apr  8 10:46 model.bin\r\n",
      "-rw-r--r-- 1 varun varun 6690963 Apr  8 10:46 order_centroids.bin\r\n",
      "-rw-r--r-- 1 varun varun 1471545 Apr  8 10:46 terms.bin\r\n"
     ]
    }
   ],
   "source": [
    "!ls -l *.bin"
   ]
  },
  {
   "cell_type": "code",
   "execution_count": 90,
   "metadata": {},
   "outputs": [],
   "source": [
    "review_cluster = []"
   ]
  },
  {
   "cell_type": "code",
   "execution_count": 91,
   "metadata": {},
   "outputs": [],
   "source": [
    "for i in reviews.index:    \n",
    "    Y = vectorizer.transform([reviews[i]])\n",
    "    prediction = model.predict(Y)   \n",
    "    review_cluster.append(prediction)"
   ]
  },
  {
   "cell_type": "code",
   "execution_count": 92,
   "metadata": {},
   "outputs": [
    {
     "data": {
      "text/plain": [
       "609669"
      ]
     },
     "execution_count": 92,
     "metadata": {},
     "output_type": "execute_result"
    }
   ],
   "source": [
    "len(review_cluster)"
   ]
  },
  {
   "cell_type": "code",
   "execution_count": 100,
   "metadata": {},
   "outputs": [],
   "source": [
    "df[\"clusterid\"] = [x[0] for x in review_cluster]"
   ]
  },
  {
   "cell_type": "code",
   "execution_count": 102,
   "metadata": {},
   "outputs": [],
   "source": [
    "df.to_csv(\"reviews_cluster.csv\", index=False, header=True)"
   ]
  },
  {
   "cell_type": "code",
   "execution_count": 101,
   "metadata": {},
   "outputs": [
    {
     "data": {
      "text/html": [
       "<div>\n",
       "<style scoped>\n",
       "    .dataframe tbody tr th:only-of-type {\n",
       "        vertical-align: middle;\n",
       "    }\n",
       "\n",
       "    .dataframe tbody tr th {\n",
       "        vertical-align: top;\n",
       "    }\n",
       "\n",
       "    .dataframe thead th {\n",
       "        text-align: right;\n",
       "    }\n",
       "</style>\n",
       "<table border=\"1\" class=\"dataframe\">\n",
       "  <thead>\n",
       "    <tr style=\"text-align: right;\">\n",
       "      <th></th>\n",
       "      <th>listing_id</th>\n",
       "      <th>id</th>\n",
       "      <th>date</th>\n",
       "      <th>reviewer_id</th>\n",
       "      <th>reviewer_name</th>\n",
       "      <th>comments</th>\n",
       "      <th>sentiment</th>\n",
       "      <th>subjectivity</th>\n",
       "      <th>comments_cleaned</th>\n",
       "      <th>clusterid</th>\n",
       "    </tr>\n",
       "  </thead>\n",
       "  <tbody>\n",
       "    <tr>\n",
       "      <th>0</th>\n",
       "      <td>1419</td>\n",
       "      <td>38924112.0</td>\n",
       "      <td>2015-07-19</td>\n",
       "      <td>11308465.0</td>\n",
       "      <td>Marcela</td>\n",
       "      <td>Having the opportunity of arriving to Alexandr...</td>\n",
       "      <td>0.410104</td>\n",
       "      <td>0.699479</td>\n",
       "      <td>opportunity arriving alexandra house describes...</td>\n",
       "      <td>4</td>\n",
       "    </tr>\n",
       "    <tr>\n",
       "      <th>1</th>\n",
       "      <td>1419</td>\n",
       "      <td>44791978.0</td>\n",
       "      <td>2015-08-29</td>\n",
       "      <td>9580285.0</td>\n",
       "      <td>Marco</td>\n",
       "      <td>We have no enough words to describe how beauty...</td>\n",
       "      <td>0.266667</td>\n",
       "      <td>0.683333</td>\n",
       "      <td>enough word describe beautyful cozy alexandra ...</td>\n",
       "      <td>4</td>\n",
       "    </tr>\n",
       "    <tr>\n",
       "      <th>2</th>\n",
       "      <td>1419</td>\n",
       "      <td>45957133.0</td>\n",
       "      <td>2015-09-07</td>\n",
       "      <td>38394721.0</td>\n",
       "      <td>Andrea</td>\n",
       "      <td>The listing was exceptional and an even better...</td>\n",
       "      <td>0.576111</td>\n",
       "      <td>0.717361</td>\n",
       "      <td>listing exceptional even better experience per...</td>\n",
       "      <td>2</td>\n",
       "    </tr>\n",
       "    <tr>\n",
       "      <th>3</th>\n",
       "      <td>1419</td>\n",
       "      <td>67295154.0</td>\n",
       "      <td>2016-03-28</td>\n",
       "      <td>3515044.0</td>\n",
       "      <td>Shaun</td>\n",
       "      <td>Alexandra's home was amazing and in such a nea...</td>\n",
       "      <td>0.295000</td>\n",
       "      <td>0.563333</td>\n",
       "      <td>alexandra home amazing neat neighbourhood ever...</td>\n",
       "      <td>4</td>\n",
       "    </tr>\n",
       "    <tr>\n",
       "      <th>4</th>\n",
       "      <td>1419</td>\n",
       "      <td>177702208.0</td>\n",
       "      <td>2017-08-03</td>\n",
       "      <td>13987100.0</td>\n",
       "      <td>Kate</td>\n",
       "      <td>Beautiful home. Very comfortable and clean. Pe...</td>\n",
       "      <td>0.502963</td>\n",
       "      <td>0.740000</td>\n",
       "      <td>beautiful home comfortable clean perfect famil...</td>\n",
       "      <td>4</td>\n",
       "    </tr>\n",
       "  </tbody>\n",
       "</table>\n",
       "</div>"
      ],
      "text/plain": [
       "  listing_id           id        date  reviewer_id reviewer_name  \\\n",
       "0       1419   38924112.0  2015-07-19   11308465.0       Marcela   \n",
       "1       1419   44791978.0  2015-08-29    9580285.0         Marco   \n",
       "2       1419   45957133.0  2015-09-07   38394721.0        Andrea   \n",
       "3       1419   67295154.0  2016-03-28    3515044.0         Shaun   \n",
       "4       1419  177702208.0  2017-08-03   13987100.0          Kate   \n",
       "\n",
       "                                            comments  sentiment  subjectivity  \\\n",
       "0  Having the opportunity of arriving to Alexandr...   0.410104      0.699479   \n",
       "1  We have no enough words to describe how beauty...   0.266667      0.683333   \n",
       "2  The listing was exceptional and an even better...   0.576111      0.717361   \n",
       "3  Alexandra's home was amazing and in such a nea...   0.295000      0.563333   \n",
       "4  Beautiful home. Very comfortable and clean. Pe...   0.502963      0.740000   \n",
       "\n",
       "                                    comments_cleaned  clusterid  \n",
       "0  opportunity arriving alexandra house describes...          4  \n",
       "1  enough word describe beautyful cozy alexandra ...          4  \n",
       "2  listing exceptional even better experience per...          2  \n",
       "3  alexandra home amazing neat neighbourhood ever...          4  \n",
       "4  beautiful home comfortable clean perfect famil...          4  "
      ]
     },
     "execution_count": 101,
     "metadata": {},
     "output_type": "execute_result"
    }
   ],
   "source": [
    "df.head()"
   ]
  },
  {
   "cell_type": "code",
   "execution_count": 56,
   "metadata": {},
   "outputs": [
    {
     "name": "stdout",
     "output_type": "stream",
     "text": [
      "Cluster 0:\n",
      " stay\n",
      " nicole\n",
      " david\n",
      " week\n",
      " safe\n",
      " wonderful\n",
      " friendly\n",
      " place\n",
      " fairness\n",
      " faire\n",
      "Cluster 1:\n",
      " nan\n",
      " zzzs\n",
      " fairly\n",
      " faire\n",
      " fairen\n",
      " fairer\n",
      " fairerweise\n",
      " faireview\n",
      " fairey\n",
      " fairlie\n",
      "Cluster 2:\n",
      " great\n",
      " location\n",
      " place\n",
      " host\n",
      " stay\n",
      " clean\n",
      " recommend\n",
      " apartment\n",
      " definitely\n",
      " view\n",
      "Cluster 3:\n",
      " great\n",
      " place\n",
      " location\n",
      " stay\n",
      " host\n",
      " clean\n",
      " view\n",
      " recommend\n",
      " definitely\n",
      " value\n",
      "Cluster 4:\n",
      " place\n",
      " stay\n",
      " clean\n",
      " good\n",
      " toronto\n",
      " host\n",
      " apartment\n",
      " location\n",
      " great\n",
      " perfect\n",
      "Cluster 5:\n",
      " nice\n",
      " place\n",
      " clean\n",
      " location\n",
      " great\n",
      " host\n",
      " stay\n",
      " really\n",
      " good\n",
      " room\n",
      "Cluster 6:\n",
      " easy\n",
      " check\n",
      " great\n",
      " location\n",
      " place\n",
      " clean\n",
      " stay\n",
      " apartment\n",
      " host\n",
      " communication\n",
      "Cluster 7:\n",
      " automated\n",
      " canceled\n",
      " posting\n",
      " reservation\n",
      " arrival\n",
      " day\n",
      " host\n",
      " fairness\n",
      " faire\n",
      " fainants\n",
      "Cluster 8:\n",
      " space\n",
      " great\n",
      " location\n",
      " clean\n",
      " stay\n",
      " host\n",
      " comfortable\n",
      " recommend\n",
      " definitely\n",
      " perfect\n",
      "Cluster 9:\n",
      " amazing\n",
      " view\n",
      " place\n",
      " location\n",
      " host\n",
      " great\n",
      " stay\n",
      " clean\n",
      " definitely\n",
      " recommend\n"
     ]
    }
   ],
   "source": [
    "for i in range(true_k):\n",
    "    print(\"Cluster %d:\" % i),\n",
    "    for ind in order_centroids[i, :10]:\n",
    "        print(' %s' % terms[ind]),\n",
    "    print\n",
    "\n"
   ]
  },
  {
   "cell_type": "code",
   "execution_count": 59,
   "metadata": {},
   "outputs": [
    {
     "name": "stdout",
     "output_type": "stream",
     "text": [
      "Prediction\n",
      "[4]\n"
     ]
    }
   ],
   "source": [
    "print(\"Prediction\")\n",
    "\n",
    "Y = vectorizer.transform([\"excellent place to stay\"])\n",
    "prediction = model.predict(Y)\n",
    "print(prediction)"
   ]
  },
  {
   "cell_type": "code",
   "execution_count": 61,
   "metadata": {},
   "outputs": [
    {
     "name": "stdout",
     "output_type": "stream",
     "text": [
      "[4]\n"
     ]
    }
   ],
   "source": [
    "Y = vectorizer.transform([\"Not funny\"])\n",
    "prediction = model.predict(Y)\n",
    "print(prediction)"
   ]
  },
  {
   "cell_type": "code",
   "execution_count": 42,
   "metadata": {},
   "outputs": [
    {
     "name": "stdout",
     "output_type": "stream",
     "text": [
      "[0]\n"
     ]
    }
   ],
   "source": [
    "Y = vectorizer.transform([\"Close to the subway station\"])\n",
    "prediction = model.predict(Y)\n",
    "print(prediction)"
   ]
  }
 ],
 "metadata": {
  "kernelspec": {
   "display_name": "Python 3",
   "language": "python",
   "name": "python3"
  },
  "language_info": {
   "codemirror_mode": {
    "name": "ipython",
    "version": 3
   },
   "file_extension": ".py",
   "mimetype": "text/x-python",
   "name": "python",
   "nbconvert_exporter": "python",
   "pygments_lexer": "ipython3",
   "version": "3.6.7"
  }
 },
 "nbformat": 4,
 "nbformat_minor": 2
}
