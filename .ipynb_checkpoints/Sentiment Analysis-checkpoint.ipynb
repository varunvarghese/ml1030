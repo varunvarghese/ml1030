{
 "cells": [
  {
   "cell_type": "code",
   "execution_count": 1,
   "metadata": {},
   "outputs": [],
   "source": [
    "import nltk\n",
    "import nltk.sentiment.sentiment_analyzer "
   ]
  },
  {
   "cell_type": "code",
   "execution_count": 3,
   "metadata": {},
   "outputs": [],
   "source": [
    "# Analysing for single words\n",
    "def OneWord(): \n",
    "    positive_words = ['good', 'progress', 'luck']\n",
    "    text = 'Hard Work brings progress and good luck.'.split()                 \n",
    "    analysis = nltk.sentiment.util.extract_unigram_feats(text, positive_words) \n",
    "    print(' ** Sentiment with one word **\\n')\n",
    "    print(analysis) "
   ]
  },
  {
   "cell_type": "code",
   "execution_count": 5,
   "metadata": {},
   "outputs": [],
   "source": [
    "# Analysing for a pair of words\t\n",
    "def WithBigrams(): \n",
    "    word_sets = [('Regular', 'fit'), ('fit', 'fine')] \n",
    "    text = 'Regular excercise makes you fit and fine'.split() \n",
    "    analysis = nltk.sentiment.util.extract_bigram_feats(text, word_sets) \n",
    "    print('\\n*** Sentiment with bigrams ***\\n') \n",
    "    print(analysis)"
   ]
  },
  {
   "cell_type": "code",
   "execution_count": 6,
   "metadata": {},
   "outputs": [],
   "source": [
    "# Analysing the negation words. \n",
    "def NegativeWord():\n",
    "    text = 'Lack of good health can not bring success to students'.split() \n",
    "    analysis = nltk.sentiment.util.mark_negation(text) \n",
    "    print('\\n**Sentiment with Negative words**\\n')\n",
    "    print(analysis) "
   ]
  },
  {
   "cell_type": "code",
   "execution_count": 8,
   "metadata": {},
   "outputs": [
    {
     "name": "stdout",
     "output_type": "stream",
     "text": [
      " ** Sentiment with one word **\n",
      "\n",
      "{'contains(good)': True, 'contains(progress)': True, 'contains(luck)': False}\n"
     ]
    }
   ],
   "source": [
    "OneWord()"
   ]
  },
  {
   "cell_type": "code",
   "execution_count": 9,
   "metadata": {},
   "outputs": [
    {
     "name": "stdout",
     "output_type": "stream",
     "text": [
      "\n",
      "*** Sentiment with bigrams ***\n",
      "\n",
      "{'contains(Regular - fit)': False, 'contains(fit - fine)': False}\n"
     ]
    }
   ],
   "source": [
    "WithBigrams() "
   ]
  },
  {
   "cell_type": "code",
   "execution_count": 11,
   "metadata": {},
   "outputs": [
    {
     "name": "stdout",
     "output_type": "stream",
     "text": [
      "\n",
      "**Sentiment with Negative words**\n",
      "\n",
      "['Lack', 'of', 'good', 'health', 'can', 'not', 'bring_NEG', 'success_NEG', 'to_NEG', 'students_NEG']\n"
     ]
    }
   ],
   "source": [
    "NegativeWord() "
   ]
  },
  {
   "cell_type": "code",
   "execution_count": null,
   "metadata": {},
   "outputs": [],
   "source": []
  }
 ],
 "metadata": {
  "kernelspec": {
   "display_name": "Python 3",
   "language": "python",
   "name": "python3"
  },
  "language_info": {
   "codemirror_mode": {
    "name": "ipython",
    "version": 3
   },
   "file_extension": ".py",
   "mimetype": "text/x-python",
   "name": "python",
   "nbconvert_exporter": "python",
   "pygments_lexer": "ipython3",
   "version": "3.6.7"
  }
 },
 "nbformat": 4,
 "nbformat_minor": 2
}
