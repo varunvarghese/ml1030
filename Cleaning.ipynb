{
 "cells": [
  {
   "cell_type": "code",
   "execution_count": 28,
   "metadata": {},
   "outputs": [],
   "source": [
    "import pandas as pd\n",
    "import re"
   ]
  },
  {
   "cell_type": "code",
   "execution_count": 50,
   "metadata": {},
   "outputs": [],
   "source": [
    "!head -n5 listings.csv > listings_head10.csv"
   ]
  },
  {
   "cell_type": "code",
   "execution_count": 20,
   "metadata": {},
   "outputs": [
    {
     "name": "stdout",
     "output_type": "stream",
     "text": [
      "total 521720\r\n",
      "-rw-r--r-- 1 varun varun 315842337 Mar  7 09:28 calendar.csv\r\n",
      "-rw-r--r-- 1 varun varun      4073 Mar 16 11:58 calendar_head100.csv\r\n",
      "-rwxr-xr-x 1 varun varun       642 Mar 16 11:18 download.sh\r\n",
      "-rw-r--r-- 1 varun varun  79278493 Mar  7 09:28 listings.csv\r\n",
      "-rw-r--r-- 1 varun varun    169108 Mar 16 11:58 listings_head100.csv\r\n",
      "-rw-r--r-- 1 varun varun     11265 Mar 16 12:07 listings_head10.csv\r\n",
      "-rw-r--r-- 1 varun varun   1017150 Mar  7 09:28 neighbourhoods.geojson\r\n",
      "-rw-r--r-- 1 varun varun 137856142 Mar  7 09:28 reviews.csv\r\n",
      "-rw-r--r-- 1 varun varun     15718 Mar 16 11:59 reviews_head100.csv\r\n",
      "drwxr-xr-x 2 varun varun      4096 Mar 16 11:27 summarized\r\n",
      "-rw-r--r-- 1 varun varun      8273 Mar 16 12:05 Untitled.ipynb\r\n"
     ]
    }
   ],
   "source": [
    "!ls -l"
   ]
  },
  {
   "cell_type": "code",
   "execution_count": 10,
   "metadata": {},
   "outputs": [],
   "source": [
    "calendar = pd.read_csv(\"calendar_head100.csv\")\n",
    "reviews = pd.read_csv(\"reviews_head100.csv\")\n"
   ]
  },
  {
   "cell_type": "code",
   "execution_count": 24,
   "metadata": {},
   "outputs": [
    {
     "name": "stdout",
     "output_type": "stream",
     "text": [
      "Collecting fileinput\n",
      "\u001b[31m  Could not find a version that satisfies the requirement fileinput (from versions: )\u001b[0m\n",
      "\u001b[31mNo matching distribution found for fileinput\u001b[0m\n"
     ]
    }
   ],
   "source": [
    "!pip install fileinput"
   ]
  },
  {
   "cell_type": "code",
   "execution_count": 36,
   "metadata": {},
   "outputs": [
    {
     "ename": "AttributeError",
     "evalue": "'str' object has no attribute 'decode'",
     "output_type": "error",
     "traceback": [
      "\u001b[0;31m---------------------------------------------------------------------------\u001b[0m",
      "\u001b[0;31mAttributeError\u001b[0m                            Traceback (most recent call last)",
      "\u001b[0;32m<ipython-input-36-52142af78aec>\u001b[0m in \u001b[0;36m<module>\u001b[0;34m()\u001b[0m\n\u001b[0;32m----> 1\u001b[0;31m \u001b[0;34m\".*\\xe2.*\"\u001b[0m\u001b[0;34m,\u001b[0m\u001b[0;34m\"ow you just can\\xe2\\x80\\x99t beat that anywhere else, can you?\"\u001b[0m\u001b[0;34m.\u001b[0m\u001b[0mdecode\u001b[0m\u001b[0;34m(\u001b[0m\u001b[0;34m'utf-16-le'\u001b[0m\u001b[0;34m)\u001b[0m\u001b[0;34m\u001b[0m\u001b[0;34m\u001b[0m\u001b[0m\n\u001b[0m",
      "\u001b[0;31mAttributeError\u001b[0m: 'str' object has no attribute 'decode'"
     ]
    }
   ],
   "source": [
    "\".*\\xe2.*\",\"ow you just can\\xe2\\x80\\x99t beat that anywhere else, can you?\".decode('utf-16-le')"
   ]
  },
  {
   "cell_type": "code",
   "execution_count": 35,
   "metadata": {},
   "outputs": [
    {
     "name": "stdout",
     "output_type": "stream",
     "text": [
      "<_sre.SRE_Match object; span=(0, 53), match='ow you just canâ\\x80\\x99t beat that anywhere else>\n",
      "ow you just canât beat that anywhere else, can you?\n"
     ]
    }
   ],
   "source": [
    "match = re.match(r\".*\\xe2.*\",\"ow you just can\\xe2\\x80\\x99t beat that anywhere else, can you?\")\n",
    "print(match)\n",
    "print(match.string)"
   ]
  },
  {
   "cell_type": "code",
   "execution_count": 65,
   "metadata": {},
   "outputs": [
    {
     "name": "stdout",
     "output_type": "stream",
     "text": [
      "1419,https://www.airbnb.com/rooms/1419,20190307044035,2019-03-\n",
      "1419\n",
      "https://www.airbnb.com/rooms/1419\n"
     ]
    }
   ],
   "source": [
    "line = \"1419,https://www.airbnb.com/rooms/1419,20190307044035,2019-03-\"\n",
    "matchObj = re.match(r\".*\\b([0-9]+),(https://www.airbnb.com/rooms/\\d+).*\", line, re.M|re.I)\n",
    "print(matchObj.group())\n",
    "print(matchObj.group(1))\n",
    "print(matchObj.group(2))"
   ]
  },
  {
   "cell_type": "code",
   "execution_count": 80,
   "metadata": {},
   "outputs": [],
   "source": [
    "fw = open(\"listings_key.csv\", \"w\")\n",
    "counter = 0\n",
    "for line in open(\"listings.csv\", \"rb\"): \n",
    "    line = line.decode('utf-8')\n",
    "    matchObj = re.match(r\".*\\b([0-9]+),(https://www.airbnb.com/rooms/\\d+).*\", line, re.M|re.I)\n",
    "    if matchObj is not None:\n",
    "        fw.write(matchObj.group(1) + \",\" + matchObj.group(2) + \"\\n\")\n",
    "    \n",
    "fw.close()        "
   ]
  },
  {
   "cell_type": "code",
   "execution_count": 74,
   "metadata": {},
   "outputs": [
    {
     "name": "stdout",
     "output_type": "stream",
     "text": [
      "total 600112\r\n",
      "-rw-r--r-- 1 varun varun 315842337 Mar  7 09:28 calendar.csv\r\n",
      "-rw-r--r-- 1 varun varun      4073 Mar 16 11:58 calendar_head100.csv\r\n",
      "-rw-r--r-- 1 varun varun     68054 Mar 16 13:24 Cleaning.ipynb\r\n",
      "-rwxr-xr-x 1 varun varun       642 Mar 16 11:18 download.sh\r\n",
      "-rw-r--r-- 1 varun varun  79278493 Mar 16 12:52 listings_cleaned.csv\r\n",
      "-rw-r--r-- 1 varun varun     16238 Mar 16 12:52 listings_cleaned_head10.csv\r\n",
      "-rw-r--r-- 1 varun varun  79278493 Mar  7 09:28 listings.csv\r\n",
      "-rw-r--r-- 1 varun varun    169108 Mar 16 11:58 listings_head100.csv\r\n",
      "-rw-r--r-- 1 varun varun     11265 Mar 16 12:58 listings_head10.csv\r\n",
      "-rw-r--r-- 1 varun varun    913604 Mar 16 13:25 listings_key.csv\r\n",
      "-rw-r--r-- 1 varun varun   1017150 Mar  7 09:28 neighbourhoods.geojson\r\n",
      "-rw-r--r-- 1 varun varun 137856142 Mar  7 09:28 reviews.csv\r\n",
      "-rw-r--r-- 1 varun varun     15718 Mar 16 11:59 reviews_head100.csv\r\n",
      "drwxr-xr-x 2 varun varun      4096 Mar 16 11:27 summarized\r\n"
     ]
    }
   ],
   "source": [
    "!ls -l"
   ]
  },
  {
   "cell_type": "code",
   "execution_count": 81,
   "metadata": {},
   "outputs": [],
   "source": [
    "listings_key = pd.read_csv(\"listings_key.csv\")"
   ]
  },
  {
   "cell_type": "code",
   "execution_count": 83,
   "metadata": {},
   "outputs": [
    {
     "data": {
      "text/plain": [
       "20035"
      ]
     },
     "execution_count": 83,
     "metadata": {},
     "output_type": "execute_result"
    }
   ],
   "source": [
    "len(listings_key)"
   ]
  },
  {
   "cell_type": "code",
   "execution_count": 82,
   "metadata": {},
   "outputs": [
    {
     "data": {
      "text/html": [
       "<div>\n",
       "<style scoped>\n",
       "    .dataframe tbody tr th:only-of-type {\n",
       "        vertical-align: middle;\n",
       "    }\n",
       "\n",
       "    .dataframe tbody tr th {\n",
       "        vertical-align: top;\n",
       "    }\n",
       "\n",
       "    .dataframe thead th {\n",
       "        text-align: right;\n",
       "    }\n",
       "</style>\n",
       "<table border=\"1\" class=\"dataframe\">\n",
       "  <thead>\n",
       "    <tr style=\"text-align: right;\">\n",
       "      <th></th>\n",
       "      <th>1419</th>\n",
       "      <th>https://www.airbnb.com/rooms/1419</th>\n",
       "    </tr>\n",
       "  </thead>\n",
       "  <tbody>\n",
       "    <tr>\n",
       "      <th>0</th>\n",
       "      <td>8077</td>\n",
       "      <td>https://www.airbnb.com/rooms/8077</td>\n",
       "    </tr>\n",
       "    <tr>\n",
       "      <th>1</th>\n",
       "      <td>12604</td>\n",
       "      <td>https://www.airbnb.com/rooms/12604</td>\n",
       "    </tr>\n",
       "    <tr>\n",
       "      <th>2</th>\n",
       "      <td>23691</td>\n",
       "      <td>https://www.airbnb.com/rooms/23691</td>\n",
       "    </tr>\n",
       "    <tr>\n",
       "      <th>3</th>\n",
       "      <td>26654</td>\n",
       "      <td>https://www.airbnb.com/rooms/26654</td>\n",
       "    </tr>\n",
       "    <tr>\n",
       "      <th>4</th>\n",
       "      <td>27423</td>\n",
       "      <td>https://www.airbnb.com/rooms/27423</td>\n",
       "    </tr>\n",
       "  </tbody>\n",
       "</table>\n",
       "</div>"
      ],
      "text/plain": [
       "    1419   https://www.airbnb.com/rooms/1419\n",
       "0   8077   https://www.airbnb.com/rooms/8077\n",
       "1  12604  https://www.airbnb.com/rooms/12604\n",
       "2  23691  https://www.airbnb.com/rooms/23691\n",
       "3  26654  https://www.airbnb.com/rooms/26654\n",
       "4  27423  https://www.airbnb.com/rooms/27423"
      ]
     },
     "execution_count": 82,
     "metadata": {},
     "output_type": "execute_result"
    }
   ],
   "source": [
    "listings_key.head()"
   ]
  },
  {
   "cell_type": "code",
   "execution_count": null,
   "metadata": {},
   "outputs": [],
   "source": [
    "look for \"id,url\" \n",
    "    get all chars until the next combination of num,url\n",
    "    if data is spread across multiple lines, stitch them"
   ]
  },
  {
   "cell_type": "code",
   "execution_count": 54,
   "metadata": {},
   "outputs": [
    {
     "name": "stdout",
     "output_type": "stream",
     "text": [
      "b'id,listing_url,scrape_id,last_scraped,name,summary,space,description,experiences_offered,neighborhoo'\n",
      "b'1419,https://www.airbnb.com/rooms/1419,20190307044035,2019-03-07,Beautiful home in amazing area!,\"Th'\n",
      "b'8077,https://www.airbnb.com/rooms/8077,20190307044035,2019-03-07,Downtown Harbourfront Private Room,'\n",
      "b'12604,https://www.airbnb.com/rooms/12604,20190307044035,2019-03-07,Seaton Village Parlour Bedroom,Co'\n",
      "b'I am able to travel alone and with my husband more now that my children are getting a bit more indep'\n",
      "b'I treat my hosts homes as I would expect people to treat my home, and  leave everything exactly as I'\n",
      "b'23691,https://www.airbnb.com/rooms/23691,20190307044035,2019-03-07,Queen Bedroom close to downtown,\"'\n",
      "b'\\r\\n'\n",
      "b'Between 2010 and 2018, we have hosted over 750 individuals and couples from over 100 cities and 50 c'\n",
      "b'\\r\\n'\n"
     ]
    }
   ],
   "source": [
    "counter = 0\n",
    "for line in open(\"listings.csv\", \"rb\"):    \n",
    "    first10_chars = line[0:100]\n",
    "    print(first10_chars)\n",
    "    counter += 1\n",
    "    if counter == 10:\n",
    "        break"
   ]
  },
  {
   "cell_type": "code",
   "execution_count": 38,
   "metadata": {},
   "outputs": [
    {
     "name": "stdout",
     "output_type": "stream",
     "text": [
      "id,listing_url,scrape_id,last_scraped,name,summary,space,description,experiences_offered,neighborhood_overview,notes,transit,access,interaction,house_rules,thumbnail_url,medium_url,picture_url,xl_picture_url,host_id,host_url,host_name,host_since,host_location,host_about,host_response_time,host_response_rate,host_acceptance_rate,host_is_superhost,host_thumbnail_url,host_picture_url,host_neighbourhood,host_listings_count,host_total_listings_count,host_verifications,host_has_profile_pic,host_identity_verified,street,neighbourhood,neighbourhood_cleansed,neighbourhood_group_cleansed,city,state,zipcode,market,smart_location,country_code,country,latitude,longitude,is_location_exact,property_type,room_type,accommodates,bathrooms,bedrooms,beds,bed_type,amenities,square_feet,price,weekly_price,monthly_price,security_deposit,cleaning_fee,guests_included,extra_people,minimum_nights,maximum_nights,minimum_minimum_nights,maximum_minimum_nights,minimum_maximum_nights,maximum_maximum_nights,minimum_nights_avg_ntm,maximum_nights_avg_ntm,calendar_updated,has_availability,availability_30,availability_60,availability_90,availability_365,calendar_last_scraped,number_of_reviews,number_of_reviews_ltm,first_review,last_review,review_scores_rating,review_scores_accuracy,review_scores_cleanliness,review_scores_checkin,review_scores_communication,review_scores_location,review_scores_value,requires_license,license,jurisdiction_names,instant_bookable,is_business_travel_ready,cancellation_policy,require_guest_profile_picture,require_guest_phone_verification,calculated_host_listings_count,calculated_host_listings_count_entire_homes,calculated_host_listings_count_private_rooms,calculated_host_listings_count_shared_rooms,reviews_per_month\n",
      "\n",
      "1419,https://www.airbnb.com/rooms/1419,20190307044035,2019-03-07,Beautiful home in amazing area!,\"This large, family home is located in one of Toronto's most vibrant downtown neighbourhoods. The five-bedroom, three-bath house is newly renovated and complete with all the amenities you'll need for a fabulous time in the city.\",\"Visit Toronto with this fabulous furnished home as your base! This lovely home is surrounded by gardens in the back and front. Inside, you'll find a large open space with a modern kitchen and bright living and dining room. There are two floors up - a master bedroom with a king-size bed and two kids rooms, each with a single bed. The attic is a private space with a king-sized bed, fold-out single couch and a private deck. The basement is fully-finished with a private room and bath, as well as a playroom with another single couch that doubles as a sleeping space. The house will comfortably sleep 10.  For kids of all ages: we have toys, a very cool tree fort, and many great parks and playgrounds nearby.\",\"This large, family home is located in one of Toronto's most vibrant downtown neighbourhoods. The five-bedroom, three-bath house is newly renovated and complete with all the amenities you'll need for a fabulous time in the city. Visit Toronto with this fabulous furnished home as your base! This lovely home is surrounded by gardens in the back and front. Inside, you'll find a large open space with a modern kitchen and bright living and dining room. There are two floors up - a master bedroom with a king-size bed and two kids rooms, each with a single bed. The attic is a private space with a king-sized bed, fold-out single couch and a private deck. The basement is fully-finished with a private room and bath, as well as a playroom with another single couch that doubles as a sleeping space. The house will comfortably sleep 10.  For kids of all ages: we have toys, a very cool tree fort, and many great parks and playgrounds nearby. The whole house and garden are available. We will be out of to\",none,\"The apartment is located in the Ossington strip between Dundas and Queen, a fabulous, family-friendly and incredibly fun area with amazing restaurants, cafes and shops. It is considered one of Toronto's best neighbourhoods (see (URL HIDDEN)\",\"To learn a little more about our home, see: (URL HIDDEN)\",All forms of public transportation are easily available near the house.,The whole house and garden are available.,\"We will be out of town, but fully accessible by email and phone. Our trusted neighbour will be available 24/7 for any needs you have.\",\"This is our much-loved family home. We expect guests to treat it with respect, as they would their own. This is a quiet neighbourhood and we respect our neighbours. As such, no parties or events are permitted and the reservation will be immediately cancelled with funds forfeited should one occur.\",,,https://a0.muscache.com/im/pictures/76206750/d64310e4_original.jpg?aki_policy=large,,1565,https://www.airbnb.com/users/show/1565,Alexandra,2008-08-08,\"Toronto, Ontario, Canada\",\"I live in Toronto, Canada with my husband and two sons. We love to travel! \",N/A,N/A,N/A,f,https://a0.muscache.com/im/users/1565/profile_pic/1259093740/original.jpg?aki_policy=profile_small,https://a0.muscache.com/im/users/1565/profile_pic/1259093740/original.jpg?aki_policy=profile_x_medium,Commercial Drive,1,1,\"['email', 'phone', 'reviews', 'jumio', 'government_id']\",t,t,\"Toronto, ON, Canada\",Little Portugal,Little Portugal,,Toronto,ON,M6J,Toronto,\"Toronto, Canada\",CA,Canada,43.64617,-79.42451,f,House,Entire home/apt,10,3.0,5,7,Real Bed,\"{TV,Internet,Wifi,\"\"Air conditioning\"\",Kitchen,\"\"Indoor fireplace\"\",Heating,\"\"Family/kid friendly\"\",Washer,Dryer,\"\"Smoke detector\"\",\"\"First aid kit\"\",\"\"Fire extinguisher\"\",Essentials,Shampoo}\",1400,$469.00,\"$2,000.00\",,\"$1,000.00\",$150.00,1,$0.00,4,730,4,4,730,730,4.0,730.0,13 months ago,t,0,0,0,0,2019-03-07,7,0,2015-07-19,2017-12-04,100,10,10,10,10,10,10,f,,,f,f,strict_14_with_grace_period,f,f,1,1,0,0,0.16\n",
      "\n",
      "8077,https://www.airbnb.com/rooms/8077,20190307044035,2019-03-07,Downtown Harbourfront Private Room,\"Guest room in a luxury condo with access to all amenities, a view of downtown Toronto and a private entrance.\",\"My husband and I are both artists. I give painting and felting workshops and Larry is a filmmaker. We live in a split-level waterfront condo in downtown Toronto, with a guest room on the 2nd level facing downtown Toronto. The room has a private entrance, an en-suite two piece bathroom, wireless internet, cable TV with DVD player, microwave and a small refrigerator. The tub/shower is located in the main bathroom just outside the guest room door. Guests' amenities include: a roof top salt water pool, sauna, exercise room, recreation room, library, racquetball courts and free guest parking. Our building is next door to the ferry docks and attached by a walkway to the Westin Harbour Castle Hotel where guests can enjoy fine dining or a cup of Starbuck's coffee in the morning. We are located across the bay from Centre island on the south, while a short walk to the north will take you to the financial district, the CN Tower, the Air Canada Centre (concert and sports) Metro Convention Centre, \",\"Guest room in a luxury condo with access to all amenities, a view of downtown Toronto and a private entrance. My husband and I are both artists. I give painting and felting workshops and Larry is a filmmaker. We live in a split-level waterfront condo in downtown Toronto, with a guest room on the 2nd level facing downtown Toronto. The room has a private entrance, an en-suite two piece bathroom, wireless internet, cable TV with DVD player, microwave and a small refrigerator. The tub/shower is located in the main bathroom just outside the guest room door. Guests' amenities include: a roof top salt water pool, sauna, exercise room, recreation room, library, racquetball courts and free guest parking. Our building is next door to the ferry docks and attached by a walkway to the Westin Harbour Castle Hotel where guests can enjoy fine dining or a cup of Starbuck's coffee in the morning. We are located across the bay from Centre island on the south, while a short walk to the north will take you\",none,\"\",\"\",\"\",\"\",\"\",No smoking please.,,,https://a0.muscache.com/im/pictures/11780344/141c2c88_original.jpg?aki_policy=large,,22795,https://www.airbnb.com/users/show/22795,Kathie & Larry,2009-06-22,\"Toronto, Ontario, Canada\",My husband and I have been airbnb host for almost three years We have enjoyed meeting guests from all over the world.,N/A,N/A,N/A,f,https://a0.muscache.com/im/pictures/9a077853-cb8c-49aa-91b4-d1bbd6b220a0.jpg?aki_policy=profile_small,https://a0.muscache.com/im/pictures/9a077853-cb8c-49aa-91b4-d1bbd6b220a0.jpg?aki_policy=profile_x_medium,Harbourfront,2,2,\"['email', 'phone', 'facebook', 'reviews']\",t,f,\"Toronto, ON, Canada\",Downtown Toronto,Waterfront Communities-The Island,,Toronto,ON,M5J,Toronto,\"Toronto, Canada\",CA,Canada,43.64105,-79.37628,t,Apartment,Private room,2,1.5,1,1,Real Bed,\"{TV,\"\"Cable TV\"\",Internet,Wifi,\"\"Air conditioning\"\",Pool,\"\"Free parking on premises\"\",Doorman,Gym,Elevator,\"\"Buzzer/wireless intercom\"\",Heating,\"\"Smoke detector\"\",Shampoo}\",,$100.00,,\"$2,679.00\",\"$2,679.00\",,1,$0.00,180,365,180,180,365,365,180.0,365.0,6 months ago,t,0,0,0,0,2019-03-07,169,0,2009-08-20,2013-08-27,97,10,10,10,10,10,10,f,,,t,f,strict_14_with_grace_period,f,t,2,1,1,0,1.45\n",
      "\n",
      "12604,https://www.airbnb.com/rooms/12604,20190307044035,2019-03-07,Seaton Village Parlour Bedroom,Comfortable sofa bed in airy main floor parlour.,\"Family of 4 (2 kids)  plus a friendly dog open to having clean, quiet, respectful guests in our home. 1 & 1/2 bathrooms (shared) Great neighborhood, quiet, steps to subway, close to University of Toronto, lots of coffee shops, restaurants, Little Korea No noise after 10pm PLEASE  Sofabed is very comfy, fresh sheets and towels provided (WEEKLY FOR LONG-TERM STAYS) Free WiFi, computer in room No TV in room; No kitchen priveleges Fireplace and Surround Sound system available for use. DOG GETS UP EARLY IN THE MORNING AND MAY BARK.  EARPLUGS PROVIDED FOR LIGHT SLEEPERS.\",\"Comfortable sofa bed in airy main floor parlour. Family of 4 (2 kids)  plus a friendly dog open to having clean, quiet, respectful guests in our home. 1 & 1/2 bathrooms (shared) Great neighborhood, quiet, steps to subway, close to University of Toronto, lots of coffee shops, restaurants, Little Korea No noise after 10pm PLEASE  Sofabed is very comfy, fresh sheets and towels provided (WEEKLY FOR LONG-TERM STAYS) Free WiFi, computer in room No TV in room; No kitchen priveleges Fireplace and Surround Sound system available for use. DOG GETS UP EARLY IN THE MORNING AND MAY BARK.  EARPLUGS PROVIDED FOR LIGHT SLEEPERS.\",none,\"\",\"\",\"\",\"\",\"\",no smoking,,,https://a0.muscache.com/im/pictures/5282025/91fcaf72_original.jpg?aki_policy=large,,48239,https://www.airbnb.com/users/show/48239,Rona,2009-10-25,\"Toronto, Ontario, Canada\",\"I love travelling and exploring new places, making new friends and really enjoy  getting a feel for the culture of the cities I visit by staying in private residences. Live music and art in my life is a must, but solitude in wild places is also something I need regular doses of. Between trips I am an integrative/naturopathic veterinarian at a large animal hospital.\r\n",
      "\n",
      "I am able to travel alone and with my husband more now that my children are getting a bit more independent, but we also travel together as a family.\r\n",
      "\n",
      "I treat my hosts homes as I would expect people to treat my home, and  leave everything exactly as I find it. \",N/A,N/A,N/A,f,https://a0.muscache.com/im/users/48239/profile_pic/1335748210/original.jpg?aki_policy=profile_small,https://a0.muscache.com/im/users/48239/profile_pic/1335748210/original.jpg?aki_policy=profile_x_medium,The Annex,1,1,\"['email', 'phone', 'reviews', 'jumio', 'government_id']\",t,t,\"Toronto, ON, Canada\",The Annex,Annex,,Toronto,ON,M6G,Toronto,\"Toronto, Canada\",CA,Canada,43.66724,-79.41598,t,House,Private room,1,1.5,1,1,Pull-out Sofa,\"{Internet,Wifi,\"\"Pets live on this property\"\",Cat(s),\"\"Indoor fireplace\"\"}\",120,$67.00,$396.00,$971.00,$134.00,$27.00,1,$20.00,1,10,1,1,10,10,1.0,10.0,6 months ago,t,0,0,0,0,2019-03-07,0,0,,,,,,,,,,f,,,f,f,moderate,f,f,1,0,1,0,\n",
      "\n",
      "23691,https://www.airbnb.com/rooms/23691,20190307044035,2019-03-07,Queen Bedroom close to downtown,\"\",\"Nestled in the middle of a quiet residential neighbourhood, this fine home is surrounded by parks, trees and has a warm family that enjoys hosting guests from across the world. We are a 5 min. bus ride away from the closest Toronto Transit (TTC) Subway Station, 2 minutes away from the bus stop and about a 15 to 20 minute commute to downtown Toronto. The ceilings are a little lower, but we're at a bargain price! Now you just can’t beat that anywhere else, can you? :-) Amenities include: - Clean interiors always - Personal bedrooms with sheets and towels provided - Free wireless internet access - Unlimited tea and coffee  - Convenient access to subway and local buses  - Information and directions to nearby attractions  - Parking space may be available (upon request) - Easy access to grocery store (2 min. walk away!) - Extra mattresses (if required) Please feel free to ask any questions by AirBnB messenger! We would be happy to answer them and hope to have you come stay with us :)\",\"Nestled in the middle of a quiet residential neighbourhood, this fine home is surrounded by parks, trees and has a warm family that enjoys hosting guests from across the world. We are a 5 min. bus ride away from the closest Toronto Transit (TTC) Subway Station, 2 minutes away from the bus stop and about a 15 to 20 minute commute to downtown Toronto. The ceilings are a little lower, but we're at a bargain price! Now you just can’t beat that anywhere else, can you? :-) Amenities include: - Clean interiors always - Personal bedrooms with sheets and towels provided - Free wireless internet access - Unlimited tea and coffee  - Convenient access to subway and local buses  - Information and directions to nearby attractions  - Parking space may be available (upon request) - Easy access to grocery store (2 min. walk away!) - Extra mattresses (if required) Please feel free to ask any questions by AirBnB messenger! We would be happy to answer them and hope to have you come stay with us :) You are\",none,\"\",* Laundry facilities are available at the premises for $4.00 per load (washing and drying) * We also offer transportation to and from the Toronto International and Domestic Airports at $35.00 per trip when we are available.,* Public transit is conveniently located about a 2 minute walk from the house. The closest subway station is also a 5-10 min. bus ride away.  * There is a car-sharing lot within a 3 minute walk as well,\"\",\"You are welcome to contact us at any time if they have any questions or concerns. While we may not always be around in person, you will have our contact details at all times!\",\"* Guests are requested to leave their shoes at the main entrance of our home to help keep the house clean. * Guests are welcome to come and go as they please, provided they share what their initial time of arrival and time of departure on the final day of their stay with us will be. * Guests are requested to let us know in advance if they will require a taxi ride to the airport to allow for smooth planning. * Guests are welcome to extend their stay with minimal notice, as long as the room is not booked by other guests or being used to host family.  * Guests are requested not to let anyone into our home without letting us know in advance.\",,,https://a0.muscache.com/im/pictures/615528/d09ab324_original.jpg?aki_policy=large,,93825,https://www.airbnb.com/users/show/93825,Yohan & Sarah,2010-03-15,\"Toronto, Ontario, Canada\",\"Welcome to our dwelling place! My wife and I live in Toronto and really enjoy what this city has to offer. A home with clean, well set-up rooms, access to cooking facilities and lots of warmth from it's owners, this is an ideal spot to come and spend some time away from home!\r\n",
      "\n",
      "\r\n",
      "\n",
      "Between 2010 and 2018, we have hosted over 750 individuals and couples from over 100 cities and 50 countries around the world! We would love for you to be our next guest. Whether for a few days, several weeks or a couple of months, we'll do our best to take care of your needs and provide you with a great experience you'll enjoy for a while to come. \r\n",
      "\n",
      "\r\n",
      "\n"
     ]
    }
   ],
   "source": [
    "counter = 0\n",
    "for line in open(\"listings.csv\", \"rb\"):\n",
    "    print(line.decode('utf-8'))\n",
    "    #print(line)\n",
    "    counter += 1\n",
    "    if counter == 10:\n",
    "        break"
   ]
  },
  {
   "cell_type": "code",
   "execution_count": 43,
   "metadata": {},
   "outputs": [],
   "source": [
    "fw = open(\"listings_cleaned.csv\", \"w\")\n",
    "for line in open(\"listings.csv\", \"rb\"):\n",
    "    line = str(line.decode('utf-8'))\n",
    "    fw.write(line)\n",
    "fw.close()        "
   ]
  },
  {
   "cell_type": "code",
   "execution_count": 44,
   "metadata": {},
   "outputs": [],
   "source": [
    "!head -n10 listings_cleaned.csv > listings_cleaned_head10.csv"
   ]
  },
  {
   "cell_type": "code",
   "execution_count": 45,
   "metadata": {},
   "outputs": [
    {
     "ename": "ParserError",
     "evalue": "Error tokenizing data. C error: EOF inside string starting at row 4",
     "output_type": "error",
     "traceback": [
      "\u001b[0;31m---------------------------------------------------------------------------\u001b[0m",
      "\u001b[0;31mParserError\u001b[0m                               Traceback (most recent call last)",
      "\u001b[0;32m<ipython-input-45-533407f27d23>\u001b[0m in \u001b[0;36m<module>\u001b[0;34m()\u001b[0m\n\u001b[0;32m----> 1\u001b[0;31m \u001b[0mlistings_10\u001b[0m \u001b[0;34m=\u001b[0m \u001b[0mpd\u001b[0m\u001b[0;34m.\u001b[0m\u001b[0mread_csv\u001b[0m\u001b[0;34m(\u001b[0m\u001b[0;34m\"listings_cleaned_head10.csv\"\u001b[0m\u001b[0;34m)\u001b[0m\u001b[0;34m\u001b[0m\u001b[0;34m\u001b[0m\u001b[0m\n\u001b[0m",
      "\u001b[0;32m/usr/local/lib/python3.6/dist-packages/pandas/io/parsers.py\u001b[0m in \u001b[0;36mparser_f\u001b[0;34m(filepath_or_buffer, sep, delimiter, header, names, index_col, usecols, squeeze, prefix, mangle_dupe_cols, dtype, engine, converters, true_values, false_values, skipinitialspace, skiprows, skipfooter, nrows, na_values, keep_default_na, na_filter, verbose, skip_blank_lines, parse_dates, infer_datetime_format, keep_date_col, date_parser, dayfirst, iterator, chunksize, compression, thousands, decimal, lineterminator, quotechar, quoting, doublequote, escapechar, comment, encoding, dialect, tupleize_cols, error_bad_lines, warn_bad_lines, delim_whitespace, low_memory, memory_map, float_precision)\u001b[0m\n\u001b[1;32m    700\u001b[0m                     skip_blank_lines=skip_blank_lines)\n\u001b[1;32m    701\u001b[0m \u001b[0;34m\u001b[0m\u001b[0m\n\u001b[0;32m--> 702\u001b[0;31m         \u001b[0;32mreturn\u001b[0m \u001b[0m_read\u001b[0m\u001b[0;34m(\u001b[0m\u001b[0mfilepath_or_buffer\u001b[0m\u001b[0;34m,\u001b[0m \u001b[0mkwds\u001b[0m\u001b[0;34m)\u001b[0m\u001b[0;34m\u001b[0m\u001b[0;34m\u001b[0m\u001b[0m\n\u001b[0m\u001b[1;32m    703\u001b[0m \u001b[0;34m\u001b[0m\u001b[0m\n\u001b[1;32m    704\u001b[0m     \u001b[0mparser_f\u001b[0m\u001b[0;34m.\u001b[0m\u001b[0m__name__\u001b[0m \u001b[0;34m=\u001b[0m \u001b[0mname\u001b[0m\u001b[0;34m\u001b[0m\u001b[0;34m\u001b[0m\u001b[0m\n",
      "\u001b[0;32m/usr/local/lib/python3.6/dist-packages/pandas/io/parsers.py\u001b[0m in \u001b[0;36m_read\u001b[0;34m(filepath_or_buffer, kwds)\u001b[0m\n\u001b[1;32m    433\u001b[0m \u001b[0;34m\u001b[0m\u001b[0m\n\u001b[1;32m    434\u001b[0m     \u001b[0;32mtry\u001b[0m\u001b[0;34m:\u001b[0m\u001b[0;34m\u001b[0m\u001b[0;34m\u001b[0m\u001b[0m\n\u001b[0;32m--> 435\u001b[0;31m         \u001b[0mdata\u001b[0m \u001b[0;34m=\u001b[0m \u001b[0mparser\u001b[0m\u001b[0;34m.\u001b[0m\u001b[0mread\u001b[0m\u001b[0;34m(\u001b[0m\u001b[0mnrows\u001b[0m\u001b[0;34m)\u001b[0m\u001b[0;34m\u001b[0m\u001b[0;34m\u001b[0m\u001b[0m\n\u001b[0m\u001b[1;32m    436\u001b[0m     \u001b[0;32mfinally\u001b[0m\u001b[0;34m:\u001b[0m\u001b[0;34m\u001b[0m\u001b[0;34m\u001b[0m\u001b[0m\n\u001b[1;32m    437\u001b[0m         \u001b[0mparser\u001b[0m\u001b[0;34m.\u001b[0m\u001b[0mclose\u001b[0m\u001b[0;34m(\u001b[0m\u001b[0;34m)\u001b[0m\u001b[0;34m\u001b[0m\u001b[0;34m\u001b[0m\u001b[0m\n",
      "\u001b[0;32m/usr/local/lib/python3.6/dist-packages/pandas/io/parsers.py\u001b[0m in \u001b[0;36mread\u001b[0;34m(self, nrows)\u001b[0m\n\u001b[1;32m   1137\u001b[0m     \u001b[0;32mdef\u001b[0m \u001b[0mread\u001b[0m\u001b[0;34m(\u001b[0m\u001b[0mself\u001b[0m\u001b[0;34m,\u001b[0m \u001b[0mnrows\u001b[0m\u001b[0;34m=\u001b[0m\u001b[0;32mNone\u001b[0m\u001b[0;34m)\u001b[0m\u001b[0;34m:\u001b[0m\u001b[0;34m\u001b[0m\u001b[0;34m\u001b[0m\u001b[0m\n\u001b[1;32m   1138\u001b[0m         \u001b[0mnrows\u001b[0m \u001b[0;34m=\u001b[0m \u001b[0m_validate_integer\u001b[0m\u001b[0;34m(\u001b[0m\u001b[0;34m'nrows'\u001b[0m\u001b[0;34m,\u001b[0m \u001b[0mnrows\u001b[0m\u001b[0;34m)\u001b[0m\u001b[0;34m\u001b[0m\u001b[0;34m\u001b[0m\u001b[0m\n\u001b[0;32m-> 1139\u001b[0;31m         \u001b[0mret\u001b[0m \u001b[0;34m=\u001b[0m \u001b[0mself\u001b[0m\u001b[0;34m.\u001b[0m\u001b[0m_engine\u001b[0m\u001b[0;34m.\u001b[0m\u001b[0mread\u001b[0m\u001b[0;34m(\u001b[0m\u001b[0mnrows\u001b[0m\u001b[0;34m)\u001b[0m\u001b[0;34m\u001b[0m\u001b[0;34m\u001b[0m\u001b[0m\n\u001b[0m\u001b[1;32m   1140\u001b[0m \u001b[0;34m\u001b[0m\u001b[0m\n\u001b[1;32m   1141\u001b[0m         \u001b[0;31m# May alter columns / col_dict\u001b[0m\u001b[0;34m\u001b[0m\u001b[0;34m\u001b[0m\u001b[0;34m\u001b[0m\u001b[0m\n",
      "\u001b[0;32m/usr/local/lib/python3.6/dist-packages/pandas/io/parsers.py\u001b[0m in \u001b[0;36mread\u001b[0;34m(self, nrows)\u001b[0m\n\u001b[1;32m   1993\u001b[0m     \u001b[0;32mdef\u001b[0m \u001b[0mread\u001b[0m\u001b[0;34m(\u001b[0m\u001b[0mself\u001b[0m\u001b[0;34m,\u001b[0m \u001b[0mnrows\u001b[0m\u001b[0;34m=\u001b[0m\u001b[0;32mNone\u001b[0m\u001b[0;34m)\u001b[0m\u001b[0;34m:\u001b[0m\u001b[0;34m\u001b[0m\u001b[0;34m\u001b[0m\u001b[0m\n\u001b[1;32m   1994\u001b[0m         \u001b[0;32mtry\u001b[0m\u001b[0;34m:\u001b[0m\u001b[0;34m\u001b[0m\u001b[0;34m\u001b[0m\u001b[0m\n\u001b[0;32m-> 1995\u001b[0;31m             \u001b[0mdata\u001b[0m \u001b[0;34m=\u001b[0m \u001b[0mself\u001b[0m\u001b[0;34m.\u001b[0m\u001b[0m_reader\u001b[0m\u001b[0;34m.\u001b[0m\u001b[0mread\u001b[0m\u001b[0;34m(\u001b[0m\u001b[0mnrows\u001b[0m\u001b[0;34m)\u001b[0m\u001b[0;34m\u001b[0m\u001b[0;34m\u001b[0m\u001b[0m\n\u001b[0m\u001b[1;32m   1996\u001b[0m         \u001b[0;32mexcept\u001b[0m \u001b[0mStopIteration\u001b[0m\u001b[0;34m:\u001b[0m\u001b[0;34m\u001b[0m\u001b[0;34m\u001b[0m\u001b[0m\n\u001b[1;32m   1997\u001b[0m             \u001b[0;32mif\u001b[0m \u001b[0mself\u001b[0m\u001b[0;34m.\u001b[0m\u001b[0m_first_chunk\u001b[0m\u001b[0;34m:\u001b[0m\u001b[0;34m\u001b[0m\u001b[0;34m\u001b[0m\u001b[0m\n",
      "\u001b[0;32mpandas/_libs/parsers.pyx\u001b[0m in \u001b[0;36mpandas._libs.parsers.TextReader.read\u001b[0;34m()\u001b[0m\n",
      "\u001b[0;32mpandas/_libs/parsers.pyx\u001b[0m in \u001b[0;36mpandas._libs.parsers.TextReader._read_low_memory\u001b[0;34m()\u001b[0m\n",
      "\u001b[0;32mpandas/_libs/parsers.pyx\u001b[0m in \u001b[0;36mpandas._libs.parsers.TextReader._read_rows\u001b[0;34m()\u001b[0m\n",
      "\u001b[0;32mpandas/_libs/parsers.pyx\u001b[0m in \u001b[0;36mpandas._libs.parsers.TextReader._tokenize_rows\u001b[0;34m()\u001b[0m\n",
      "\u001b[0;32mpandas/_libs/parsers.pyx\u001b[0m in \u001b[0;36mpandas._libs.parsers.raise_parser_error\u001b[0;34m()\u001b[0m\n",
      "\u001b[0;31mParserError\u001b[0m: Error tokenizing data. C error: EOF inside string starting at row 4"
     ]
    }
   ],
   "source": [
    "listings_10 = pd.read_csv(\"listings_cleaned_head10.csv\")"
   ]
  },
  {
   "cell_type": "code",
   "execution_count": 49,
   "metadata": {},
   "outputs": [
    {
     "name": "stdout",
     "output_type": "stream",
     "text": [
      "Line #: 1\n",
      "id,listing_url,scrape_id,last_scraped,name,summary,space,description,experiences_offered,neighborhood_overview,notes,transit,access,interaction,house_rules,thumbnail_url,medium_url,picture_url,xl_picture_url,host_id,host_url,host_name,host_since,host_location,host_about,host_response_time,host_response_rate,host_acceptance_rate,host_is_superhost,host_thumbnail_url,host_picture_url,host_neighbourhood,host_listings_count,host_total_listings_count,host_verifications,host_has_profile_pic,host_identity_verified,street,neighbourhood,neighbourhood_cleansed,neighbourhood_group_cleansed,city,state,zipcode,market,smart_location,country_code,country,latitude,longitude,is_location_exact,property_type,room_type,accommodates,bathrooms,bedrooms,beds,bed_type,amenities,square_feet,price,weekly_price,monthly_price,security_deposit,cleaning_fee,guests_included,extra_people,minimum_nights,maximum_nights,minimum_minimum_nights,maximum_minimum_nights,minimum_maximum_nights,maximum_maximum_nights,minimum_nights_avg_ntm,maximum_nights_avg_ntm,calendar_updated,has_availability,availability_30,availability_60,availability_90,availability_365,calendar_last_scraped,number_of_reviews,number_of_reviews_ltm,first_review,last_review,review_scores_rating,review_scores_accuracy,review_scores_cleanliness,review_scores_checkin,review_scores_communication,review_scores_location,review_scores_value,requires_license,license,jurisdiction_names,instant_bookable,is_business_travel_ready,cancellation_policy,require_guest_profile_picture,require_guest_phone_verification,calculated_host_listings_count,calculated_host_listings_count_entire_homes,calculated_host_listings_count_private_rooms,calculated_host_listings_count_shared_rooms,reviews_per_month\n",
      "\n",
      "Line #: 2\n",
      "1419,https://www.airbnb.com/rooms/1419,20190307044035,2019-03-07,Beautiful home in amazing area!,\"This large, family home is located in one of Toronto's most vibrant downtown neighbourhoods. The five-bedroom, three-bath house is newly renovated and complete with all the amenities you'll need for a fabulous time in the city.\",\"Visit Toronto with this fabulous furnished home as your base! This lovely home is surrounded by gardens in the back and front. Inside, you'll find a large open space with a modern kitchen and bright living and dining room. There are two floors up - a master bedroom with a king-size bed and two kids rooms, each with a single bed. The attic is a private space with a king-sized bed, fold-out single couch and a private deck. The basement is fully-finished with a private room and bath, as well as a playroom with another single couch that doubles as a sleeping space. The house will comfortably sleep 10.  For kids of all ages: we have toys, a very cool tree fort, and many great parks and playgrounds nearby.\",\"This large, family home is located in one of Toronto's most vibrant downtown neighbourhoods. The five-bedroom, three-bath house is newly renovated and complete with all the amenities you'll need for a fabulous time in the city. Visit Toronto with this fabulous furnished home as your base! This lovely home is surrounded by gardens in the back and front. Inside, you'll find a large open space with a modern kitchen and bright living and dining room. There are two floors up - a master bedroom with a king-size bed and two kids rooms, each with a single bed. The attic is a private space with a king-sized bed, fold-out single couch and a private deck. The basement is fully-finished with a private room and bath, as well as a playroom with another single couch that doubles as a sleeping space. The house will comfortably sleep 10.  For kids of all ages: we have toys, a very cool tree fort, and many great parks and playgrounds nearby. The whole house and garden are available. We will be out of to\",none,\"The apartment is located in the Ossington strip between Dundas and Queen, a fabulous, family-friendly and incredibly fun area with amazing restaurants, cafes and shops. It is considered one of Toronto's best neighbourhoods (see (URL HIDDEN)\",\"To learn a little more about our home, see: (URL HIDDEN)\",All forms of public transportation are easily available near the house.,The whole house and garden are available.,\"We will be out of town, but fully accessible by email and phone. Our trusted neighbour will be available 24/7 for any needs you have.\",\"This is our much-loved family home. We expect guests to treat it with respect, as they would their own. This is a quiet neighbourhood and we respect our neighbours. As such, no parties or events are permitted and the reservation will be immediately cancelled with funds forfeited should one occur.\",,,https://a0.muscache.com/im/pictures/76206750/d64310e4_original.jpg?aki_policy=large,,1565,https://www.airbnb.com/users/show/1565,Alexandra,2008-08-08,\"Toronto, Ontario, Canada\",\"I live in Toronto, Canada with my husband and two sons. We love to travel! \",N/A,N/A,N/A,f,https://a0.muscache.com/im/users/1565/profile_pic/1259093740/original.jpg?aki_policy=profile_small,https://a0.muscache.com/im/users/1565/profile_pic/1259093740/original.jpg?aki_policy=profile_x_medium,Commercial Drive,1,1,\"['email', 'phone', 'reviews', 'jumio', 'government_id']\",t,t,\"Toronto, ON, Canada\",Little Portugal,Little Portugal,,Toronto,ON,M6J,Toronto,\"Toronto, Canada\",CA,Canada,43.64617,-79.42451,f,House,Entire home/apt,10,3.0,5,7,Real Bed,\"{TV,Internet,Wifi,\"\"Air conditioning\"\",Kitchen,\"\"Indoor fireplace\"\",Heating,\"\"Family/kid friendly\"\",Washer,Dryer,\"\"Smoke detector\"\",\"\"First aid kit\"\",\"\"Fire extinguisher\"\",Essentials,Shampoo}\",1400,$469.00,\"$2,000.00\",,\"$1,000.00\",$150.00,1,$0.00,4,730,4,4,730,730,4.0,730.0,13 months ago,t,0,0,0,0,2019-03-07,7,0,2015-07-19,2017-12-04,100,10,10,10,10,10,10,f,,,f,f,strict_14_with_grace_period,f,f,1,1,0,0,0.16\n",
      "\n",
      "Line #: 3\n",
      "8077,https://www.airbnb.com/rooms/8077,20190307044035,2019-03-07,Downtown Harbourfront Private Room,\"Guest room in a luxury condo with access to all amenities, a view of downtown Toronto and a private entrance.\",\"My husband and I are both artists. I give painting and felting workshops and Larry is a filmmaker. We live in a split-level waterfront condo in downtown Toronto, with a guest room on the 2nd level facing downtown Toronto. The room has a private entrance, an en-suite two piece bathroom, wireless internet, cable TV with DVD player, microwave and a small refrigerator. The tub/shower is located in the main bathroom just outside the guest room door. Guests' amenities include: a roof top salt water pool, sauna, exercise room, recreation room, library, racquetball courts and free guest parking. Our building is next door to the ferry docks and attached by a walkway to the Westin Harbour Castle Hotel where guests can enjoy fine dining or a cup of Starbuck's coffee in the morning. We are located across the bay from Centre island on the south, while a short walk to the north will take you to the financial district, the CN Tower, the Air Canada Centre (concert and sports) Metro Convention Centre, \",\"Guest room in a luxury condo with access to all amenities, a view of downtown Toronto and a private entrance. My husband and I are both artists. I give painting and felting workshops and Larry is a filmmaker. We live in a split-level waterfront condo in downtown Toronto, with a guest room on the 2nd level facing downtown Toronto. The room has a private entrance, an en-suite two piece bathroom, wireless internet, cable TV with DVD player, microwave and a small refrigerator. The tub/shower is located in the main bathroom just outside the guest room door. Guests' amenities include: a roof top salt water pool, sauna, exercise room, recreation room, library, racquetball courts and free guest parking. Our building is next door to the ferry docks and attached by a walkway to the Westin Harbour Castle Hotel where guests can enjoy fine dining or a cup of Starbuck's coffee in the morning. We are located across the bay from Centre island on the south, while a short walk to the north will take you\",none,\"\",\"\",\"\",\"\",\"\",No smoking please.,,,https://a0.muscache.com/im/pictures/11780344/141c2c88_original.jpg?aki_policy=large,,22795,https://www.airbnb.com/users/show/22795,Kathie & Larry,2009-06-22,\"Toronto, Ontario, Canada\",My husband and I have been airbnb host for almost three years We have enjoyed meeting guests from all over the world.,N/A,N/A,N/A,f,https://a0.muscache.com/im/pictures/9a077853-cb8c-49aa-91b4-d1bbd6b220a0.jpg?aki_policy=profile_small,https://a0.muscache.com/im/pictures/9a077853-cb8c-49aa-91b4-d1bbd6b220a0.jpg?aki_policy=profile_x_medium,Harbourfront,2,2,\"['email', 'phone', 'facebook', 'reviews']\",t,f,\"Toronto, ON, Canada\",Downtown Toronto,Waterfront Communities-The Island,,Toronto,ON,M5J,Toronto,\"Toronto, Canada\",CA,Canada,43.64105,-79.37628,t,Apartment,Private room,2,1.5,1,1,Real Bed,\"{TV,\"\"Cable TV\"\",Internet,Wifi,\"\"Air conditioning\"\",Pool,\"\"Free parking on premises\"\",Doorman,Gym,Elevator,\"\"Buzzer/wireless intercom\"\",Heating,\"\"Smoke detector\"\",Shampoo}\",,$100.00,,\"$2,679.00\",\"$2,679.00\",,1,$0.00,180,365,180,180,365,365,180.0,365.0,6 months ago,t,0,0,0,0,2019-03-07,169,0,2009-08-20,2013-08-27,97,10,10,10,10,10,10,f,,,t,f,strict_14_with_grace_period,f,t,2,1,1,0,1.45\n",
      "\n",
      "Line #: 4\n",
      "12604,https://www.airbnb.com/rooms/12604,20190307044035,2019-03-07,Seaton Village Parlour Bedroom,Comfortable sofa bed in airy main floor parlour.,\"Family of 4 (2 kids)  plus a friendly dog open to having clean, quiet, respectful guests in our home. 1 & 1/2 bathrooms (shared) Great neighborhood, quiet, steps to subway, close to University of Toronto, lots of coffee shops, restaurants, Little Korea No noise after 10pm PLEASE  Sofabed is very comfy, fresh sheets and towels provided (WEEKLY FOR LONG-TERM STAYS) Free WiFi, computer in room No TV in room; No kitchen priveleges Fireplace and Surround Sound system available for use. DOG GETS UP EARLY IN THE MORNING AND MAY BARK.  EARPLUGS PROVIDED FOR LIGHT SLEEPERS.\",\"Comfortable sofa bed in airy main floor parlour. Family of 4 (2 kids)  plus a friendly dog open to having clean, quiet, respectful guests in our home. 1 & 1/2 bathrooms (shared) Great neighborhood, quiet, steps to subway, close to University of Toronto, lots of coffee shops, restaurants, Little Korea No noise after 10pm PLEASE  Sofabed is very comfy, fresh sheets and towels provided (WEEKLY FOR LONG-TERM STAYS) Free WiFi, computer in room No TV in room; No kitchen priveleges Fireplace and Surround Sound system available for use. DOG GETS UP EARLY IN THE MORNING AND MAY BARK.  EARPLUGS PROVIDED FOR LIGHT SLEEPERS.\",none,\"\",\"\",\"\",\"\",\"\",no smoking,,,https://a0.muscache.com/im/pictures/5282025/91fcaf72_original.jpg?aki_policy=large,,48239,https://www.airbnb.com/users/show/48239,Rona,2009-10-25,\"Toronto, Ontario, Canada\",\"I love travelling and exploring new places, making new friends and really enjoy  getting a feel for the culture of the cities I visit by staying in private residences. Live music and art in my life is a must, but solitude in wild places is also something I need regular doses of. Between trips I am an integrative/naturopathic veterinarian at a large animal hospital.\r\n",
      "\n",
      "Line #: 5\n",
      "I am able to travel alone and with my husband more now that my children are getting a bit more independent, but we also travel together as a family.\r\n",
      "\n",
      "Line #: 6\n",
      "I treat my hosts homes as I would expect people to treat my home, and  leave everything exactly as I find it. \",N/A,N/A,N/A,f,https://a0.muscache.com/im/users/48239/profile_pic/1335748210/original.jpg?aki_policy=profile_small,https://a0.muscache.com/im/users/48239/profile_pic/1335748210/original.jpg?aki_policy=profile_x_medium,The Annex,1,1,\"['email', 'phone', 'reviews', 'jumio', 'government_id']\",t,t,\"Toronto, ON, Canada\",The Annex,Annex,,Toronto,ON,M6G,Toronto,\"Toronto, Canada\",CA,Canada,43.66724,-79.41598,t,House,Private room,1,1.5,1,1,Pull-out Sofa,\"{Internet,Wifi,\"\"Pets live on this property\"\",Cat(s),\"\"Indoor fireplace\"\"}\",120,$67.00,$396.00,$971.00,$134.00,$27.00,1,$20.00,1,10,1,1,10,10,1.0,10.0,6 months ago,t,0,0,0,0,2019-03-07,0,0,,,,,,,,,,f,,,f,f,moderate,f,f,1,0,1,0,\n",
      "\n",
      "Line #: 7\n",
      "23691,https://www.airbnb.com/rooms/23691,20190307044035,2019-03-07,Queen Bedroom close to downtown,\"\",\"Nestled in the middle of a quiet residential neighbourhood, this fine home is surrounded by parks, trees and has a warm family that enjoys hosting guests from across the world. We are a 5 min. bus ride away from the closest Toronto Transit (TTC) Subway Station, 2 minutes away from the bus stop and about a 15 to 20 minute commute to downtown Toronto. The ceilings are a little lower, but we're at a bargain price! Now you just can’t beat that anywhere else, can you? :-) Amenities include: - Clean interiors always - Personal bedrooms with sheets and towels provided - Free wireless internet access - Unlimited tea and coffee  - Convenient access to subway and local buses  - Information and directions to nearby attractions  - Parking space may be available (upon request) - Easy access to grocery store (2 min. walk away!) - Extra mattresses (if required) Please feel free to ask any questions by AirBnB messenger! We would be happy to answer them and hope to have you come stay with us :)\",\"Nestled in the middle of a quiet residential neighbourhood, this fine home is surrounded by parks, trees and has a warm family that enjoys hosting guests from across the world. We are a 5 min. bus ride away from the closest Toronto Transit (TTC) Subway Station, 2 minutes away from the bus stop and about a 15 to 20 minute commute to downtown Toronto. The ceilings are a little lower, but we're at a bargain price! Now you just can’t beat that anywhere else, can you? :-) Amenities include: - Clean interiors always - Personal bedrooms with sheets and towels provided - Free wireless internet access - Unlimited tea and coffee  - Convenient access to subway and local buses  - Information and directions to nearby attractions  - Parking space may be available (upon request) - Easy access to grocery store (2 min. walk away!) - Extra mattresses (if required) Please feel free to ask any questions by AirBnB messenger! We would be happy to answer them and hope to have you come stay with us :) You are\",none,\"\",* Laundry facilities are available at the premises for $4.00 per load (washing and drying) * We also offer transportation to and from the Toronto International and Domestic Airports at $35.00 per trip when we are available.,* Public transit is conveniently located about a 2 minute walk from the house. The closest subway station is also a 5-10 min. bus ride away.  * There is a car-sharing lot within a 3 minute walk as well,\"\",\"You are welcome to contact us at any time if they have any questions or concerns. While we may not always be around in person, you will have our contact details at all times!\",\"* Guests are requested to leave their shoes at the main entrance of our home to help keep the house clean. * Guests are welcome to come and go as they please, provided they share what their initial time of arrival and time of departure on the final day of their stay with us will be. * Guests are requested to let us know in advance if they will require a taxi ride to the airport to allow for smooth planning. * Guests are welcome to extend their stay with minimal notice, as long as the room is not booked by other guests or being used to host family.  * Guests are requested not to let anyone into our home without letting us know in advance.\",,,https://a0.muscache.com/im/pictures/615528/d09ab324_original.jpg?aki_policy=large,,93825,https://www.airbnb.com/users/show/93825,Yohan & Sarah,2010-03-15,\"Toronto, Ontario, Canada\",\"Welcome to our dwelling place! My wife and I live in Toronto and really enjoy what this city has to offer. A home with clean, well set-up rooms, access to cooking facilities and lots of warmth from it's owners, this is an ideal spot to come and spend some time away from home!\r\n",
      "\n",
      "Line #: 8\n",
      "\r\n",
      "\n",
      "Line #: 9\n",
      "Between 2010 and 2018, we have hosted over 750 individuals and couples from over 100 cities and 50 countries around the world! We would love for you to be our next guest. Whether for a few days, several weeks or a couple of months, we'll do our best to take care of your needs and provide you with a great experience you'll enjoy for a while to come. \r\n",
      "\n"
     ]
    }
   ],
   "source": [
    "counter = 1\n",
    "for line in open(\"listings_cleaned_head10.csv\", \"rb\"):\n",
    "    print(\"Line #: \" + str(counter))\n",
    "    print(line.decode('utf-8'))\n",
    "    #print(line)\n",
    "    counter += 1\n",
    "    if counter == 10:\n",
    "        break"
   ]
  },
  {
   "cell_type": "code",
   "execution_count": 22,
   "metadata": {},
   "outputs": [
    {
     "ename": "FileNotFoundError",
     "evalue": "[Errno 2] No such file or directory: 'listings_head100'",
     "output_type": "error",
     "traceback": [
      "\u001b[0;31m---------------------------------------------------------------------------\u001b[0m",
      "\u001b[0;31mFileNotFoundError\u001b[0m                         Traceback (most recent call last)",
      "\u001b[0;32m<ipython-input-22-4eeab21c66e8>\u001b[0m in \u001b[0;36m<module>\u001b[0;34m()\u001b[0m\n\u001b[1;32m      1\u001b[0m \u001b[0;32mimport\u001b[0m \u001b[0mfileinput\u001b[0m\u001b[0;34m\u001b[0m\u001b[0;34m\u001b[0m\u001b[0m\n\u001b[0;32m----> 2\u001b[0;31m \u001b[0;32mfor\u001b[0m \u001b[0mline\u001b[0m \u001b[0;32min\u001b[0m \u001b[0mfileinput\u001b[0m\u001b[0;34m.\u001b[0m\u001b[0minput\u001b[0m\u001b[0;34m(\u001b[0m\u001b[0;34m\"listings_head100\"\u001b[0m\u001b[0;34m)\u001b[0m\u001b[0;34m:\u001b[0m\u001b[0;34m\u001b[0m\u001b[0;34m\u001b[0m\u001b[0m\n\u001b[0m\u001b[1;32m      3\u001b[0m     \u001b[0mprocess\u001b[0m\u001b[0;34m(\u001b[0m\u001b[0mline\u001b[0m\u001b[0;34m)\u001b[0m\u001b[0;34m\u001b[0m\u001b[0;34m\u001b[0m\u001b[0m\n",
      "\u001b[0;32m/usr/lib/python3.6/fileinput.py\u001b[0m in \u001b[0;36m__next__\u001b[0;34m(self)\u001b[0m\n\u001b[1;32m    248\u001b[0m     \u001b[0;32mdef\u001b[0m \u001b[0m__next__\u001b[0m\u001b[0;34m(\u001b[0m\u001b[0mself\u001b[0m\u001b[0;34m)\u001b[0m\u001b[0;34m:\u001b[0m\u001b[0;34m\u001b[0m\u001b[0;34m\u001b[0m\u001b[0m\n\u001b[1;32m    249\u001b[0m         \u001b[0;32mwhile\u001b[0m \u001b[0;32mTrue\u001b[0m\u001b[0;34m:\u001b[0m\u001b[0;34m\u001b[0m\u001b[0;34m\u001b[0m\u001b[0m\n\u001b[0;32m--> 250\u001b[0;31m             \u001b[0mline\u001b[0m \u001b[0;34m=\u001b[0m \u001b[0mself\u001b[0m\u001b[0;34m.\u001b[0m\u001b[0m_readline\u001b[0m\u001b[0;34m(\u001b[0m\u001b[0;34m)\u001b[0m\u001b[0;34m\u001b[0m\u001b[0;34m\u001b[0m\u001b[0m\n\u001b[0m\u001b[1;32m    251\u001b[0m             \u001b[0;32mif\u001b[0m \u001b[0mline\u001b[0m\u001b[0;34m:\u001b[0m\u001b[0;34m\u001b[0m\u001b[0;34m\u001b[0m\u001b[0m\n\u001b[1;32m    252\u001b[0m                 \u001b[0mself\u001b[0m\u001b[0;34m.\u001b[0m\u001b[0m_filelineno\u001b[0m \u001b[0;34m+=\u001b[0m \u001b[0;36m1\u001b[0m\u001b[0;34m\u001b[0m\u001b[0;34m\u001b[0m\u001b[0m\n",
      "\u001b[0;32m/usr/lib/python3.6/fileinput.py\u001b[0m in \u001b[0;36m_readline\u001b[0;34m(self)\u001b[0m\n\u001b[1;32m    360\u001b[0m                     \u001b[0mself\u001b[0m\u001b[0;34m.\u001b[0m\u001b[0m_file\u001b[0m \u001b[0;34m=\u001b[0m \u001b[0mself\u001b[0m\u001b[0;34m.\u001b[0m\u001b[0m_openhook\u001b[0m\u001b[0;34m(\u001b[0m\u001b[0mself\u001b[0m\u001b[0;34m.\u001b[0m\u001b[0m_filename\u001b[0m\u001b[0;34m,\u001b[0m \u001b[0mself\u001b[0m\u001b[0;34m.\u001b[0m\u001b[0m_mode\u001b[0m\u001b[0;34m)\u001b[0m\u001b[0;34m\u001b[0m\u001b[0;34m\u001b[0m\u001b[0m\n\u001b[1;32m    361\u001b[0m                 \u001b[0;32melse\u001b[0m\u001b[0;34m:\u001b[0m\u001b[0;34m\u001b[0m\u001b[0;34m\u001b[0m\u001b[0m\n\u001b[0;32m--> 362\u001b[0;31m                     \u001b[0mself\u001b[0m\u001b[0;34m.\u001b[0m\u001b[0m_file\u001b[0m \u001b[0;34m=\u001b[0m \u001b[0mopen\u001b[0m\u001b[0;34m(\u001b[0m\u001b[0mself\u001b[0m\u001b[0;34m.\u001b[0m\u001b[0m_filename\u001b[0m\u001b[0;34m,\u001b[0m \u001b[0mself\u001b[0m\u001b[0;34m.\u001b[0m\u001b[0m_mode\u001b[0m\u001b[0;34m)\u001b[0m\u001b[0;34m\u001b[0m\u001b[0;34m\u001b[0m\u001b[0m\n\u001b[0m\u001b[1;32m    363\u001b[0m         \u001b[0mself\u001b[0m\u001b[0;34m.\u001b[0m\u001b[0m_readline\u001b[0m \u001b[0;34m=\u001b[0m \u001b[0mself\u001b[0m\u001b[0;34m.\u001b[0m\u001b[0m_file\u001b[0m\u001b[0;34m.\u001b[0m\u001b[0mreadline\u001b[0m  \u001b[0;31m# hide FileInput._readline\u001b[0m\u001b[0;34m\u001b[0m\u001b[0;34m\u001b[0m\u001b[0m\n\u001b[1;32m    364\u001b[0m         \u001b[0;32mreturn\u001b[0m \u001b[0mself\u001b[0m\u001b[0;34m.\u001b[0m\u001b[0m_readline\u001b[0m\u001b[0;34m(\u001b[0m\u001b[0;34m)\u001b[0m\u001b[0;34m\u001b[0m\u001b[0;34m\u001b[0m\u001b[0m\n",
      "\u001b[0;31mFileNotFoundError\u001b[0m: [Errno 2] No such file or directory: 'listings_head100'"
     ]
    }
   ],
   "source": [
    "import fileinput\n",
    "for line in fileinput.input(\"listings_head100\"):\n",
    "    process(line)"
   ]
  },
  {
   "cell_type": "code",
   "execution_count": 16,
   "metadata": {},
   "outputs": [
    {
     "ename": "ParserError",
     "evalue": "Error tokenizing data. C error: EOF inside string starting at row 4",
     "output_type": "error",
     "traceback": [
      "\u001b[0;31m---------------------------------------------------------------------------\u001b[0m",
      "\u001b[0;31mParserError\u001b[0m                               Traceback (most recent call last)",
      "\u001b[0;32m<ipython-input-16-6f51e3651cdb>\u001b[0m in \u001b[0;36m<module>\u001b[0;34m()\u001b[0m\n\u001b[0;32m----> 1\u001b[0;31m \u001b[0mlistings\u001b[0m \u001b[0;34m=\u001b[0m \u001b[0mpd\u001b[0m\u001b[0;34m.\u001b[0m\u001b[0mread_csv\u001b[0m\u001b[0;34m(\u001b[0m\u001b[0;34m\"listings_head10.csv\"\u001b[0m\u001b[0;34m,\u001b[0m \u001b[0mlow_memory\u001b[0m\u001b[0;34m=\u001b[0m\u001b[0;32mFalse\u001b[0m\u001b[0;34m)\u001b[0m\u001b[0;34m\u001b[0m\u001b[0;34m\u001b[0m\u001b[0m\n\u001b[0m",
      "\u001b[0;32m/usr/local/lib/python3.6/dist-packages/pandas/io/parsers.py\u001b[0m in \u001b[0;36mparser_f\u001b[0;34m(filepath_or_buffer, sep, delimiter, header, names, index_col, usecols, squeeze, prefix, mangle_dupe_cols, dtype, engine, converters, true_values, false_values, skipinitialspace, skiprows, skipfooter, nrows, na_values, keep_default_na, na_filter, verbose, skip_blank_lines, parse_dates, infer_datetime_format, keep_date_col, date_parser, dayfirst, iterator, chunksize, compression, thousands, decimal, lineterminator, quotechar, quoting, doublequote, escapechar, comment, encoding, dialect, tupleize_cols, error_bad_lines, warn_bad_lines, delim_whitespace, low_memory, memory_map, float_precision)\u001b[0m\n\u001b[1;32m    700\u001b[0m                     skip_blank_lines=skip_blank_lines)\n\u001b[1;32m    701\u001b[0m \u001b[0;34m\u001b[0m\u001b[0m\n\u001b[0;32m--> 702\u001b[0;31m         \u001b[0;32mreturn\u001b[0m \u001b[0m_read\u001b[0m\u001b[0;34m(\u001b[0m\u001b[0mfilepath_or_buffer\u001b[0m\u001b[0;34m,\u001b[0m \u001b[0mkwds\u001b[0m\u001b[0;34m)\u001b[0m\u001b[0;34m\u001b[0m\u001b[0;34m\u001b[0m\u001b[0m\n\u001b[0m\u001b[1;32m    703\u001b[0m \u001b[0;34m\u001b[0m\u001b[0m\n\u001b[1;32m    704\u001b[0m     \u001b[0mparser_f\u001b[0m\u001b[0;34m.\u001b[0m\u001b[0m__name__\u001b[0m \u001b[0;34m=\u001b[0m \u001b[0mname\u001b[0m\u001b[0;34m\u001b[0m\u001b[0;34m\u001b[0m\u001b[0m\n",
      "\u001b[0;32m/usr/local/lib/python3.6/dist-packages/pandas/io/parsers.py\u001b[0m in \u001b[0;36m_read\u001b[0;34m(filepath_or_buffer, kwds)\u001b[0m\n\u001b[1;32m    433\u001b[0m \u001b[0;34m\u001b[0m\u001b[0m\n\u001b[1;32m    434\u001b[0m     \u001b[0;32mtry\u001b[0m\u001b[0;34m:\u001b[0m\u001b[0;34m\u001b[0m\u001b[0;34m\u001b[0m\u001b[0m\n\u001b[0;32m--> 435\u001b[0;31m         \u001b[0mdata\u001b[0m \u001b[0;34m=\u001b[0m \u001b[0mparser\u001b[0m\u001b[0;34m.\u001b[0m\u001b[0mread\u001b[0m\u001b[0;34m(\u001b[0m\u001b[0mnrows\u001b[0m\u001b[0;34m)\u001b[0m\u001b[0;34m\u001b[0m\u001b[0;34m\u001b[0m\u001b[0m\n\u001b[0m\u001b[1;32m    436\u001b[0m     \u001b[0;32mfinally\u001b[0m\u001b[0;34m:\u001b[0m\u001b[0;34m\u001b[0m\u001b[0;34m\u001b[0m\u001b[0m\n\u001b[1;32m    437\u001b[0m         \u001b[0mparser\u001b[0m\u001b[0;34m.\u001b[0m\u001b[0mclose\u001b[0m\u001b[0;34m(\u001b[0m\u001b[0;34m)\u001b[0m\u001b[0;34m\u001b[0m\u001b[0;34m\u001b[0m\u001b[0m\n",
      "\u001b[0;32m/usr/local/lib/python3.6/dist-packages/pandas/io/parsers.py\u001b[0m in \u001b[0;36mread\u001b[0;34m(self, nrows)\u001b[0m\n\u001b[1;32m   1137\u001b[0m     \u001b[0;32mdef\u001b[0m \u001b[0mread\u001b[0m\u001b[0;34m(\u001b[0m\u001b[0mself\u001b[0m\u001b[0;34m,\u001b[0m \u001b[0mnrows\u001b[0m\u001b[0;34m=\u001b[0m\u001b[0;32mNone\u001b[0m\u001b[0;34m)\u001b[0m\u001b[0;34m:\u001b[0m\u001b[0;34m\u001b[0m\u001b[0;34m\u001b[0m\u001b[0m\n\u001b[1;32m   1138\u001b[0m         \u001b[0mnrows\u001b[0m \u001b[0;34m=\u001b[0m \u001b[0m_validate_integer\u001b[0m\u001b[0;34m(\u001b[0m\u001b[0;34m'nrows'\u001b[0m\u001b[0;34m,\u001b[0m \u001b[0mnrows\u001b[0m\u001b[0;34m)\u001b[0m\u001b[0;34m\u001b[0m\u001b[0;34m\u001b[0m\u001b[0m\n\u001b[0;32m-> 1139\u001b[0;31m         \u001b[0mret\u001b[0m \u001b[0;34m=\u001b[0m \u001b[0mself\u001b[0m\u001b[0;34m.\u001b[0m\u001b[0m_engine\u001b[0m\u001b[0;34m.\u001b[0m\u001b[0mread\u001b[0m\u001b[0;34m(\u001b[0m\u001b[0mnrows\u001b[0m\u001b[0;34m)\u001b[0m\u001b[0;34m\u001b[0m\u001b[0;34m\u001b[0m\u001b[0m\n\u001b[0m\u001b[1;32m   1140\u001b[0m \u001b[0;34m\u001b[0m\u001b[0m\n\u001b[1;32m   1141\u001b[0m         \u001b[0;31m# May alter columns / col_dict\u001b[0m\u001b[0;34m\u001b[0m\u001b[0;34m\u001b[0m\u001b[0;34m\u001b[0m\u001b[0m\n",
      "\u001b[0;32m/usr/local/lib/python3.6/dist-packages/pandas/io/parsers.py\u001b[0m in \u001b[0;36mread\u001b[0;34m(self, nrows)\u001b[0m\n\u001b[1;32m   1993\u001b[0m     \u001b[0;32mdef\u001b[0m \u001b[0mread\u001b[0m\u001b[0;34m(\u001b[0m\u001b[0mself\u001b[0m\u001b[0;34m,\u001b[0m \u001b[0mnrows\u001b[0m\u001b[0;34m=\u001b[0m\u001b[0;32mNone\u001b[0m\u001b[0;34m)\u001b[0m\u001b[0;34m:\u001b[0m\u001b[0;34m\u001b[0m\u001b[0;34m\u001b[0m\u001b[0m\n\u001b[1;32m   1994\u001b[0m         \u001b[0;32mtry\u001b[0m\u001b[0;34m:\u001b[0m\u001b[0;34m\u001b[0m\u001b[0;34m\u001b[0m\u001b[0m\n\u001b[0;32m-> 1995\u001b[0;31m             \u001b[0mdata\u001b[0m \u001b[0;34m=\u001b[0m \u001b[0mself\u001b[0m\u001b[0;34m.\u001b[0m\u001b[0m_reader\u001b[0m\u001b[0;34m.\u001b[0m\u001b[0mread\u001b[0m\u001b[0;34m(\u001b[0m\u001b[0mnrows\u001b[0m\u001b[0;34m)\u001b[0m\u001b[0;34m\u001b[0m\u001b[0;34m\u001b[0m\u001b[0m\n\u001b[0m\u001b[1;32m   1996\u001b[0m         \u001b[0;32mexcept\u001b[0m \u001b[0mStopIteration\u001b[0m\u001b[0;34m:\u001b[0m\u001b[0;34m\u001b[0m\u001b[0;34m\u001b[0m\u001b[0m\n\u001b[1;32m   1997\u001b[0m             \u001b[0;32mif\u001b[0m \u001b[0mself\u001b[0m\u001b[0;34m.\u001b[0m\u001b[0m_first_chunk\u001b[0m\u001b[0;34m:\u001b[0m\u001b[0;34m\u001b[0m\u001b[0;34m\u001b[0m\u001b[0m\n",
      "\u001b[0;32mpandas/_libs/parsers.pyx\u001b[0m in \u001b[0;36mpandas._libs.parsers.TextReader.read\u001b[0;34m()\u001b[0m\n",
      "\u001b[0;32mpandas/_libs/parsers.pyx\u001b[0m in \u001b[0;36mpandas._libs.parsers.TextReader._read_rows\u001b[0;34m()\u001b[0m\n",
      "\u001b[0;32mpandas/_libs/parsers.pyx\u001b[0m in \u001b[0;36mpandas._libs.parsers.raise_parser_error\u001b[0;34m()\u001b[0m\n",
      "\u001b[0;31mParserError\u001b[0m: Error tokenizing data. C error: EOF inside string starting at row 4"
     ]
    }
   ],
   "source": [
    "listings = pd.read_csv(\"listings_head10.csv\", low_memory=False)"
   ]
  },
  {
   "cell_type": "code",
   "execution_count": 15,
   "metadata": {},
   "outputs": [
    {
     "name": "stdout",
     "output_type": "stream",
     "text": [
      "id,listing_url,scrape_id,last_scraped,name,summary,space,description,experiences_offered,neighborhood_overview,notes,transit,access,interaction,house_rules,thumbnail_url,medium_url,picture_url,xl_picture_url,host_id,host_url,host_name,host_since,host_location,host_about,host_response_time,host_response_rate,host_acceptance_rate,host_is_superhost,host_thumbnail_url,host_picture_url,host_neighbourhood,host_listings_count,host_total_listings_count,host_verifications,host_has_profile_pic,host_identity_verified,street,neighbourhood,neighbourhood_cleansed,neighbourhood_group_cleansed,city,state,zipcode,market,smart_location,country_code,country,latitude,longitude,is_location_exact,property_type,room_type,accommodates,bathrooms,bedrooms,beds,bed_type,amenities,square_feet,price,weekly_price,monthly_price,security_deposit,cleaning_fee,guests_included,extra_people,minimum_nights,maximum_nights,minimum_minimum_nights,maximum_minimum_nights,minimum_maximum_nights,maximum_maximum_nights,minimum_nights_avg_ntm,maximum_nights_avg_ntm,calendar_updated,has_availability,availability_30,availability_60,availability_90,availability_365,calendar_last_scraped,number_of_reviews,number_of_reviews_ltm,first_review,last_review,review_scores_rating,review_scores_accuracy,review_scores_cleanliness,review_scores_checkin,review_scores_communication,review_scores_location,review_scores_value,requires_license,license,jurisdiction_names,instant_bookable,is_business_travel_ready,cancellation_policy,require_guest_profile_picture,require_guest_phone_verification,calculated_host_listings_count,calculated_host_listings_count_entire_homes,calculated_host_listings_count_private_rooms,calculated_host_listings_count_shared_rooms,reviews_per_month\r\n",
      "1419,https://www.airbnb.com/rooms/1419,20190307044035,2019-03-07,Beautiful home in amazing area!,\"This large, family home is located in one of Toronto's most vibrant downtown neighbourhoods. The five-bedroom, three-bath house is newly renovated and complete with all the amenities you'll need for a fabulous time in the city.\",\"Visit Toronto with this fabulous furnished home as your base! This lovely home is surrounded by gardens in the back and front. Inside, you'll find a large open space with a modern kitchen and bright living and dining room. There are two floors up - a master bedroom with a king-size bed and two kids rooms, each with a single bed. The attic is a private space with a king-sized bed, fold-out single couch and a private deck. The basement is fully-finished with a private room and bath, as well as a playroom with another single couch that doubles as a sleeping space. The house will comfortably sleep 10.  For kids of all ages: we have toys, a very cool tree fort, and many great parks and playgrounds nearby.\",\"This large, family home is located in one of Toronto's most vibrant downtown neighbourhoods. The five-bedroom, three-bath house is newly renovated and complete with all the amenities you'll need for a fabulous time in the city. Visit Toronto with this fabulous furnished home as your base! This lovely home is surrounded by gardens in the back and front. Inside, you'll find a large open space with a modern kitchen and bright living and dining room. There are two floors up - a master bedroom with a king-size bed and two kids rooms, each with a single bed. The attic is a private space with a king-sized bed, fold-out single couch and a private deck. The basement is fully-finished with a private room and bath, as well as a playroom with another single couch that doubles as a sleeping space. The house will comfortably sleep 10.  For kids of all ages: we have toys, a very cool tree fort, and many great parks and playgrounds nearby. The whole house and garden are available. We will be out of to\",none,\"The apartment is located in the Ossington strip between Dundas and Queen, a fabulous, family-friendly and incredibly fun area with amazing restaurants, cafes and shops. It is considered one of Toronto's best neighbourhoods (see (URL HIDDEN)\",\"To learn a little more about our home, see: (URL HIDDEN)\",All forms of public transportation are easily available near the house.,The whole house and garden are available.,\"We will be out of town, but fully accessible by email and phone. Our trusted neighbour will be available 24/7 for any needs you have.\",\"This is our much-loved family home. We expect guests to treat it with respect, as they would their own. This is a quiet neighbourhood and we respect our neighbours. As such, no parties or events are permitted and the reservation will be immediately cancelled with funds forfeited should one occur.\",,,https://a0.muscache.com/im/pictures/76206750/d64310e4_original.jpg?aki_policy=large,,1565,https://www.airbnb.com/users/show/1565,Alexandra,2008-08-08,\"Toronto, Ontario, Canada\",\"I live in Toronto, Canada with my husband and two sons. We love to travel! \",N/A,N/A,N/A,f,https://a0.muscache.com/im/users/1565/profile_pic/1259093740/original.jpg?aki_policy=profile_small,https://a0.muscache.com/im/users/1565/profile_pic/1259093740/original.jpg?aki_policy=profile_x_medium,Commercial Drive,1,1,\"['email', 'phone', 'reviews', 'jumio', 'government_id']\",t,t,\"Toronto, ON, Canada\",Little Portugal,Little Portugal,,Toronto,ON,M6J,Toronto,\"Toronto, Canada\",CA,Canada,43.64617,-79.42451,f,House,Entire home/apt,10,3.0,5,7,Real Bed,\"{TV,Internet,Wifi,\"\"Air conditioning\"\",Kitchen,\"\"Indoor fireplace\"\",Heating,\"\"Family/kid friendly\"\",Washer,Dryer,\"\"Smoke detector\"\",\"\"First aid kit\"\",\"\"Fire extinguisher\"\",Essentials,Shampoo}\",1400,$469.00,\"$2,000.00\",,\"$1,000.00\",$150.00,1,$0.00,4,730,4,4,730,730,4.0,730.0,13 months ago,t,0,0,0,0,2019-03-07,7,0,2015-07-19,2017-12-04,100,10,10,10,10,10,10,f,,,f,f,strict_14_with_grace_period,f,f,1,1,0,0,0.16\r\n"
     ]
    }
   ],
   "source": [
    "!head -n2 listings.csv"
   ]
  },
  {
   "cell_type": "code",
   "execution_count": null,
   "metadata": {},
   "outputs": [],
   "source": []
  }
 ],
 "metadata": {
  "kernelspec": {
   "display_name": "Python 3",
   "language": "python",
   "name": "python3"
  },
  "language_info": {
   "codemirror_mode": {
    "name": "ipython",
    "version": 3
   },
   "file_extension": ".py",
   "mimetype": "text/x-python",
   "name": "python",
   "nbconvert_exporter": "python",
   "pygments_lexer": "ipython3",
   "version": "3.6.7"
  }
 },
 "nbformat": 4,
 "nbformat_minor": 2
}
