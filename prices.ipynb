{
 "cells": [
  {
   "cell_type": "code",
   "execution_count": 1,
   "metadata": {},
   "outputs": [
    {
     "name": "stdout",
     "output_type": "stream",
     "text": [
      "host_response_rate       26.711919\n",
      "host_acceptance_rate    100.000000\n",
      "host_is_superhost         0.019964\n",
      "host_listings_count       0.019964\n",
      "zipcode                   1.921541\n",
      "property_type             0.000000\n",
      "room_type                 0.000000\n",
      "accommodates              0.000000\n",
      "bathrooms                 0.069874\n",
      "bedrooms                  0.054901\n",
      "beds                      0.124775\n",
      "price                     0.000000\n",
      "weekly_price             88.840088\n",
      "monthly_price            90.462168\n",
      "number_of_reviews         0.000000\n",
      "review_scores_rating     21.196846\n",
      "cancellation_policy       0.000000\n",
      "reviews_per_month        19.849271\n",
      "dtype: float64\n"
     ]
    }
   ],
   "source": [
    "#!/usr/bin/env python3\n",
    "# -*- coding: utf-8 -*-\n",
    "\"\"\"\n",
    "Created on Wed Mar 20 18:46:18 2019\n",
    "\n",
    "@author: silviu\n",
    "\"\"\"\n",
    "\n",
    "import numpy as np\n",
    "import pandas as pd\n",
    "import seaborn as sns\n",
    "import matplotlib.pyplot as plt\n",
    "\n",
    "\n",
    "listings = pd.read_csv('./data/listings.csv', low_memory=False)\n",
    "\n",
    "#print(listings.columns.values)\n",
    "\n",
    "df = listings[[\"host_response_rate\", \"host_acceptance_rate\", \"host_is_superhost\",\n",
    "               \"host_listings_count\", \"zipcode\", \"property_type\",\"room_type\", \"accommodates\", \"bathrooms\", \"bedrooms\", \n",
    "               \"beds\", \"price\", \"weekly_price\", \"monthly_price\", \"number_of_reviews\", \"review_scores_rating\", \"cancellation_policy\", \n",
    "               \"reviews_per_month\"]]\n",
    "\n",
    "#print(df.head())\n",
    "\n",
    "# % of NaN values\n",
    "print((len(df)-df.count())/len(df)*100)\n"
   ]
  },
  {
   "cell_type": "code",
   "execution_count": 2,
   "metadata": {},
   "outputs": [
    {
     "name": "stdout",
     "output_type": "stream",
     "text": [
      "  host_is_superhost  host_listings_count  zipcode property_type  \\\n",
      "0                 f                  1.0      M6J         House   \n",
      "1                 f                  2.0      M5J     Apartment   \n",
      "2                 f                  1.0      M6G         House   \n",
      "3                 t                  2.0  M6E 2P3         House   \n",
      "4                 f                  7.0  M5V 3P5   Condominium   \n",
      "\n",
      "         room_type  accommodates  bathrooms  bedrooms  beds    price  \\\n",
      "0  Entire home/apt            10        3.0       5.0   7.0  $469.00   \n",
      "1     Private room             2        1.5       1.0   1.0  $100.00   \n",
      "2     Private room             1        1.5       1.0   1.0   $67.00   \n",
      "3     Private room             2        1.0       1.0   1.0   $70.00   \n",
      "4  Entire home/apt             5        1.0       1.0   2.0  $200.00   \n",
      "\n",
      "   number_of_reviews          cancellation_policy  \n",
      "0                  7  strict_14_with_grace_period  \n",
      "1                169  strict_14_with_grace_period  \n",
      "2                  0                     moderate  \n",
      "3                207  strict_14_with_grace_period  \n",
      "4                 36  strict_14_with_grace_period  \n"
     ]
    }
   ],
   "source": [
    "df = listings[[\"host_is_superhost\", \n",
    "               \"host_listings_count\", \"zipcode\", \"property_type\",\"room_type\", \"accommodates\", \"bathrooms\", \"bedrooms\", \n",
    "               \"beds\", \"price\",  \"number_of_reviews\",  \"cancellation_policy\", \n",
    "               ]]\n",
    "\n",
    "print(df.head())\n"
   ]
  },
  {
   "cell_type": "code",
   "execution_count": 3,
   "metadata": {},
   "outputs": [
    {
     "name": "stdout",
     "output_type": "stream",
     "text": [
      "host_is_superhost      0.019964\n",
      "host_listings_count    0.019964\n",
      "zipcode                1.921541\n",
      "property_type          0.000000\n",
      "room_type              0.000000\n",
      "accommodates           0.000000\n",
      "bathrooms              0.069874\n",
      "bedrooms               0.054901\n",
      "beds                   0.124775\n",
      "price                  0.000000\n",
      "number_of_reviews      0.000000\n",
      "cancellation_policy    0.000000\n",
      "dtype: float64\n"
     ]
    }
   ],
   "source": [
    "# % of NaN values\n",
    "print((len(df)-df.count())/len(df)*100)"
   ]
  },
  {
   "cell_type": "code",
   "execution_count": 4,
   "metadata": {},
   "outputs": [
    {
     "name": "stdout",
     "output_type": "stream",
     "text": [
      "Dropped  2.1311639049710522\n"
     ]
    }
   ],
   "source": [
    "# drop NaN rows\n",
    "df2=df.dropna(axis=0)\n",
    "\n",
    "# % of rows droppped\n",
    "print('Dropped ', (len(df)-len(df2))/len(df)*100)\n"
   ]
  },
  {
   "cell_type": "code",
   "execution_count": 5,
   "metadata": {},
   "outputs": [
    {
     "name": "stdout",
     "output_type": "stream",
     "text": [
      "['host_is_superhost' 'host_listings_count' 'zipcode' 'property_type'\n",
      " 'room_type' 'accommodates' 'bathrooms' 'bedrooms' 'beds' 'price'\n",
      " 'number_of_reviews' 'cancellation_policy']\n"
     ]
    }
   ],
   "source": [
    "print(df2.columns.values)"
   ]
  },
  {
   "cell_type": "code",
   "execution_count": 6,
   "metadata": {},
   "outputs": [
    {
     "name": "stdout",
     "output_type": "stream",
     "text": [
      "   zipcode property_type        room_type          cancellation_policy\n",
      "0      M6J         House  Entire home/apt  strict_14_with_grace_period\n",
      "1      M5J     Apartment     Private room  strict_14_with_grace_period\n",
      "2      M6G         House     Private room                     moderate\n",
      "3  M6E 2P3         House     Private room  strict_14_with_grace_period\n",
      "4  M5V 3P5   Condominium  Entire home/apt  strict_14_with_grace_period\n"
     ]
    },
    {
     "name": "stderr",
     "output_type": "stream",
     "text": [
      "/home/silviu/anaconda3/lib/python3.6/site-packages/ipykernel_launcher.py:1: SettingWithCopyWarning: \n",
      "A value is trying to be set on a copy of a slice from a DataFrame.\n",
      "Try using .loc[row_indexer,col_indexer] = value instead\n",
      "\n",
      "See the caveats in the documentation: http://pandas.pydata.org/pandas-docs/stable/indexing.html#indexing-view-versus-copy\n",
      "  \"\"\"Entry point for launching an IPython kernel.\n",
      "/home/silviu/anaconda3/lib/python3.6/site-packages/ipykernel_launcher.py:3: SettingWithCopyWarning: \n",
      "A value is trying to be set on a copy of a slice from a DataFrame.\n",
      "Try using .loc[row_indexer,col_indexer] = value instead\n",
      "\n",
      "See the caveats in the documentation: http://pandas.pydata.org/pandas-docs/stable/indexing.html#indexing-view-versus-copy\n",
      "  This is separate from the ipykernel package so we can avoid doing imports until\n"
     ]
    }
   ],
   "source": [
    "df2['price'] = df2['price'].str.replace(\"[$, ]\", \"\").astype(\"float\")\n",
    "\n",
    "df2['superhost']=np.where(df2['host_is_superhost']=='t',1,0)\n",
    "del df2['host_is_superhost']\n",
    "\n",
    "non_num_vars = df2.select_dtypes(include=['object']).columns\n",
    "#print('non num ', non_num_vars)\n",
    "print(df2[non_num_vars].head())"
   ]
  },
  {
   "cell_type": "code",
   "execution_count": 7,
   "metadata": {},
   "outputs": [
    {
     "name": "stdout",
     "output_type": "stream",
     "text": [
      "   zipcode_2v5  zipcode_L0J  zipcode_L0K 1B0  zipcode_L3R 3G4  \\\n",
      "0            0            0                0                0   \n",
      "1            0            0                0                0   \n",
      "2            0            0                0                0   \n",
      "3            0            0                0                0   \n",
      "4            0            0                0                0   \n",
      "\n",
      "   zipcode_L3S 1T4  zipcode_L3T  zipcode_L3T 0C7  zipcode_L3T 1A2  \\\n",
      "0                0            0                0                0   \n",
      "1                0            0                0                0   \n",
      "2                0            0                0                0   \n",
      "3                0            0                0                0   \n",
      "4                0            0                0                0   \n",
      "\n",
      "   zipcode_L3T 1A4  zipcode_L3T 1J3                 ...                   \\\n",
      "0                0                0                 ...                    \n",
      "1                0                0                 ...                    \n",
      "2                0                0                 ...                    \n",
      "3                0                0                 ...                    \n",
      "4                0                0                 ...                    \n",
      "\n",
      "   property_type_Treehouse  property_type_Villa  room_type_Entire home/apt  \\\n",
      "0                        0                    0                          1   \n",
      "1                        0                    0                          0   \n",
      "2                        0                    0                          0   \n",
      "3                        0                    0                          0   \n",
      "4                        0                    0                          1   \n",
      "\n",
      "   room_type_Private room  room_type_Shared room  \\\n",
      "0                       0                      0   \n",
      "1                       1                      0   \n",
      "2                       1                      0   \n",
      "3                       1                      0   \n",
      "4                       0                      0   \n",
      "\n",
      "   cancellation_policy_flexible  cancellation_policy_moderate  \\\n",
      "0                             0                             0   \n",
      "1                             0                             0   \n",
      "2                             0                             1   \n",
      "3                             0                             0   \n",
      "4                             0                             0   \n",
      "\n",
      "   cancellation_policy_strict_14_with_grace_period  \\\n",
      "0                                                1   \n",
      "1                                                1   \n",
      "2                                                0   \n",
      "3                                                1   \n",
      "4                                                1   \n",
      "\n",
      "   cancellation_policy_super_strict_30  cancellation_policy_super_strict_60  \n",
      "0                                    0                                    0  \n",
      "1                                    0                                    0  \n",
      "2                                    0                                    0  \n",
      "3                                    0                                    0  \n",
      "4                                    0                                    0  \n",
      "\n",
      "[5 rows x 6863 columns]\n"
     ]
    }
   ],
   "source": [
    "dummy_vars = pd.get_dummies(df2[non_num_vars])\n",
    "\n",
    "print(dummy_vars.head())\n"
   ]
  },
  {
   "cell_type": "code",
   "execution_count": 8,
   "metadata": {},
   "outputs": [
    {
     "data": {
      "text/html": [
       "<div>\n",
       "<style scoped>\n",
       "    .dataframe tbody tr th:only-of-type {\n",
       "        vertical-align: middle;\n",
       "    }\n",
       "\n",
       "    .dataframe tbody tr th {\n",
       "        vertical-align: top;\n",
       "    }\n",
       "\n",
       "    .dataframe thead th {\n",
       "        text-align: right;\n",
       "    }\n",
       "</style>\n",
       "<table border=\"1\" class=\"dataframe\">\n",
       "  <thead>\n",
       "    <tr style=\"text-align: right;\">\n",
       "      <th></th>\n",
       "      <th>host_listings_count</th>\n",
       "      <th>accommodates</th>\n",
       "      <th>bathrooms</th>\n",
       "      <th>bedrooms</th>\n",
       "      <th>beds</th>\n",
       "      <th>price</th>\n",
       "      <th>number_of_reviews</th>\n",
       "      <th>superhost</th>\n",
       "      <th>zipcode_2v5</th>\n",
       "      <th>zipcode_L0J</th>\n",
       "      <th>...</th>\n",
       "      <th>property_type_Treehouse</th>\n",
       "      <th>property_type_Villa</th>\n",
       "      <th>room_type_Entire home/apt</th>\n",
       "      <th>room_type_Private room</th>\n",
       "      <th>room_type_Shared room</th>\n",
       "      <th>cancellation_policy_flexible</th>\n",
       "      <th>cancellation_policy_moderate</th>\n",
       "      <th>cancellation_policy_strict_14_with_grace_period</th>\n",
       "      <th>cancellation_policy_super_strict_30</th>\n",
       "      <th>cancellation_policy_super_strict_60</th>\n",
       "    </tr>\n",
       "  </thead>\n",
       "  <tbody>\n",
       "    <tr>\n",
       "      <th>0</th>\n",
       "      <td>1.0</td>\n",
       "      <td>10</td>\n",
       "      <td>3.0</td>\n",
       "      <td>5.0</td>\n",
       "      <td>7.0</td>\n",
       "      <td>469.0</td>\n",
       "      <td>7</td>\n",
       "      <td>0</td>\n",
       "      <td>0</td>\n",
       "      <td>0</td>\n",
       "      <td>...</td>\n",
       "      <td>0</td>\n",
       "      <td>0</td>\n",
       "      <td>1</td>\n",
       "      <td>0</td>\n",
       "      <td>0</td>\n",
       "      <td>0</td>\n",
       "      <td>0</td>\n",
       "      <td>1</td>\n",
       "      <td>0</td>\n",
       "      <td>0</td>\n",
       "    </tr>\n",
       "    <tr>\n",
       "      <th>1</th>\n",
       "      <td>2.0</td>\n",
       "      <td>2</td>\n",
       "      <td>1.5</td>\n",
       "      <td>1.0</td>\n",
       "      <td>1.0</td>\n",
       "      <td>100.0</td>\n",
       "      <td>169</td>\n",
       "      <td>0</td>\n",
       "      <td>0</td>\n",
       "      <td>0</td>\n",
       "      <td>...</td>\n",
       "      <td>0</td>\n",
       "      <td>0</td>\n",
       "      <td>0</td>\n",
       "      <td>1</td>\n",
       "      <td>0</td>\n",
       "      <td>0</td>\n",
       "      <td>0</td>\n",
       "      <td>1</td>\n",
       "      <td>0</td>\n",
       "      <td>0</td>\n",
       "    </tr>\n",
       "    <tr>\n",
       "      <th>2</th>\n",
       "      <td>1.0</td>\n",
       "      <td>1</td>\n",
       "      <td>1.5</td>\n",
       "      <td>1.0</td>\n",
       "      <td>1.0</td>\n",
       "      <td>67.0</td>\n",
       "      <td>0</td>\n",
       "      <td>0</td>\n",
       "      <td>0</td>\n",
       "      <td>0</td>\n",
       "      <td>...</td>\n",
       "      <td>0</td>\n",
       "      <td>0</td>\n",
       "      <td>0</td>\n",
       "      <td>1</td>\n",
       "      <td>0</td>\n",
       "      <td>0</td>\n",
       "      <td>1</td>\n",
       "      <td>0</td>\n",
       "      <td>0</td>\n",
       "      <td>0</td>\n",
       "    </tr>\n",
       "    <tr>\n",
       "      <th>3</th>\n",
       "      <td>2.0</td>\n",
       "      <td>2</td>\n",
       "      <td>1.0</td>\n",
       "      <td>1.0</td>\n",
       "      <td>1.0</td>\n",
       "      <td>70.0</td>\n",
       "      <td>207</td>\n",
       "      <td>1</td>\n",
       "      <td>0</td>\n",
       "      <td>0</td>\n",
       "      <td>...</td>\n",
       "      <td>0</td>\n",
       "      <td>0</td>\n",
       "      <td>0</td>\n",
       "      <td>1</td>\n",
       "      <td>0</td>\n",
       "      <td>0</td>\n",
       "      <td>0</td>\n",
       "      <td>1</td>\n",
       "      <td>0</td>\n",
       "      <td>0</td>\n",
       "    </tr>\n",
       "    <tr>\n",
       "      <th>4</th>\n",
       "      <td>7.0</td>\n",
       "      <td>5</td>\n",
       "      <td>1.0</td>\n",
       "      <td>1.0</td>\n",
       "      <td>2.0</td>\n",
       "      <td>200.0</td>\n",
       "      <td>36</td>\n",
       "      <td>0</td>\n",
       "      <td>0</td>\n",
       "      <td>0</td>\n",
       "      <td>...</td>\n",
       "      <td>0</td>\n",
       "      <td>0</td>\n",
       "      <td>1</td>\n",
       "      <td>0</td>\n",
       "      <td>0</td>\n",
       "      <td>0</td>\n",
       "      <td>0</td>\n",
       "      <td>1</td>\n",
       "      <td>0</td>\n",
       "      <td>0</td>\n",
       "    </tr>\n",
       "  </tbody>\n",
       "</table>\n",
       "<p>5 rows × 6871 columns</p>\n",
       "</div>"
      ],
      "text/plain": [
       "   host_listings_count  accommodates  bathrooms  bedrooms  beds  price  \\\n",
       "0                  1.0            10        3.0       5.0   7.0  469.0   \n",
       "1                  2.0             2        1.5       1.0   1.0  100.0   \n",
       "2                  1.0             1        1.5       1.0   1.0   67.0   \n",
       "3                  2.0             2        1.0       1.0   1.0   70.0   \n",
       "4                  7.0             5        1.0       1.0   2.0  200.0   \n",
       "\n",
       "   number_of_reviews  superhost  zipcode_2v5  zipcode_L0J  \\\n",
       "0                  7          0            0            0   \n",
       "1                169          0            0            0   \n",
       "2                  0          0            0            0   \n",
       "3                207          1            0            0   \n",
       "4                 36          0            0            0   \n",
       "\n",
       "                  ...                   property_type_Treehouse  \\\n",
       "0                 ...                                         0   \n",
       "1                 ...                                         0   \n",
       "2                 ...                                         0   \n",
       "3                 ...                                         0   \n",
       "4                 ...                                         0   \n",
       "\n",
       "   property_type_Villa  room_type_Entire home/apt  room_type_Private room  \\\n",
       "0                    0                          1                       0   \n",
       "1                    0                          0                       1   \n",
       "2                    0                          0                       1   \n",
       "3                    0                          0                       1   \n",
       "4                    0                          1                       0   \n",
       "\n",
       "   room_type_Shared room  cancellation_policy_flexible  \\\n",
       "0                      0                             0   \n",
       "1                      0                             0   \n",
       "2                      0                             0   \n",
       "3                      0                             0   \n",
       "4                      0                             0   \n",
       "\n",
       "   cancellation_policy_moderate  \\\n",
       "0                             0   \n",
       "1                             0   \n",
       "2                             1   \n",
       "3                             0   \n",
       "4                             0   \n",
       "\n",
       "   cancellation_policy_strict_14_with_grace_period  \\\n",
       "0                                                1   \n",
       "1                                                1   \n",
       "2                                                0   \n",
       "3                                                1   \n",
       "4                                                1   \n",
       "\n",
       "   cancellation_policy_super_strict_30  cancellation_policy_super_strict_60  \n",
       "0                                    0                                    0  \n",
       "1                                    0                                    0  \n",
       "2                                    0                                    0  \n",
       "3                                    0                                    0  \n",
       "4                                    0                                    0  \n",
       "\n",
       "[5 rows x 6871 columns]"
      ]
     },
     "execution_count": 8,
     "metadata": {},
     "output_type": "execute_result"
    }
   ],
   "source": [
    "# drop non-numeric variables from df2 and add the dummies\n",
    "df3=df2.drop(non_num_vars,axis=1)\n",
    "df3 = pd.merge(df3,dummy_vars, left_index=True, right_index=True)\n",
    "df3.head()\n"
   ]
  },
  {
   "cell_type": "code",
   "execution_count": 9,
   "metadata": {},
   "outputs": [
    {
     "data": {
      "text/plain": [
       "<matplotlib.axes._subplots.AxesSubplot at 0x7f109d9c06a0>"
      ]
     },
     "execution_count": 9,
     "metadata": {},
     "output_type": "execute_result"
    },
    {
     "data": {
      "image/png": "[encoded data removed]",
      "text/plain": [
       "<Figure size 432x288 with 1 Axes>"
      ]
     },
     "metadata": {
      "needs_background": "light"
     },
     "output_type": "display_data"
    }
   ],
   "source": [
    "sns.boxplot(x='accommodates', y='price', data=df3)"
   ]
  },
  {
   "cell_type": "code",
   "execution_count": 10,
   "metadata": {},
   "outputs": [
    {
     "data": {
      "text/plain": [
       "<matplotlib.axes._subplots.AxesSubplot at 0x7f109d4fc240>"
      ]
     },
     "execution_count": 10,
     "metadata": {},
     "output_type": "execute_result"
    },
    {
     "data": {
      "image/png": "[encoded data removed]",
      "text/plain": [
       "<Figure size 432x288 with 1 Axes>"
      ]
     },
     "metadata": {
      "needs_background": "light"
     },
     "output_type": "display_data"
    }
   ],
   "source": [
    "sns.boxplot(x='bathrooms', y='price', data=df3)"
   ]
  },
  {
   "cell_type": "code",
   "execution_count": 11,
   "metadata": {},
   "outputs": [
    {
     "data": {
      "text/plain": [
       "<matplotlib.axes._subplots.AxesSubplot at 0x7f109a4f9b00>"
      ]
     },
     "execution_count": 11,
     "metadata": {},
     "output_type": "execute_result"
    },
    {
     "data": {
      "image/png": "[encoded data removed]",
      "text/plain": [
       "<Figure size 432x288 with 1 Axes>"
      ]
     },
     "metadata": {
      "needs_background": "light"
     },
     "output_type": "display_data"
    }
   ],
   "source": [
    "sns.boxplot(x='bedrooms', y='price', data=df3)"
   ]
  },
  {
   "cell_type": "code",
   "execution_count": 12,
   "metadata": {},
   "outputs": [
    {
     "data": {
      "text/plain": [
       "<matplotlib.axes._subplots.AxesSubplot at 0x7f109a54b3c8>"
      ]
     },
     "execution_count": 12,
     "metadata": {},
     "output_type": "execute_result"
    },
    {
     "data": {
      "image/png": "[encoded data removed]",
      "text/plain": [
       "<Figure size 432x288 with 1 Axes>"
      ]
     },
     "metadata": {
      "needs_background": "light"
     },
     "output_type": "display_data"
    }
   ],
   "source": [
    "sns.boxplot(x='beds', y='price', data=df3)"
   ]
  },
  {
   "cell_type": "code",
   "execution_count": null,
   "metadata": {},
   "outputs": [],
   "source": []
  },
  {
   "cell_type": "code",
   "execution_count": null,
   "metadata": {},
   "outputs": [],
   "source": []
  }
 ],
 "metadata": {
  "kernelspec": {
   "display_name": "Python 3",
   "language": "python",
   "name": "python3"
  },
  "language_info": {
   "codemirror_mode": {
    "name": "ipython",
    "version": 3
   },
   "file_extension": ".py",
   "mimetype": "text/x-python",
   "name": "python",
   "nbconvert_exporter": "python",
   "pygments_lexer": "ipython3",
   "version": "3.6.7"
  }
 },
 "nbformat": 4,
 "nbformat_minor": 2
}
