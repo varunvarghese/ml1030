{
 "cells": [
  {
   "cell_type": "code",
   "execution_count": 6,
   "metadata": {},
   "outputs": [],
   "source": [
    "import pandas as pd\n",
    "from textblob import TextBlob"
   ]
  },
  {
   "cell_type": "code",
   "execution_count": 7,
   "metadata": {},
   "outputs": [
    {
     "data": {
      "text/plain": [
       "Sentiment(polarity=0.39166666666666666, subjectivity=0.4357142857142857)"
      ]
     },
     "execution_count": 7,
     "metadata": {},
     "output_type": "execute_result"
    }
   ],
   "source": [
    "testimonial = TextBlob(\"Textblob is amazingly simple to use. What great fun!\")\n",
    "testimonial.sentiment\n"
   ]
  },
  {
   "cell_type": "code",
   "execution_count": 8,
   "metadata": {},
   "outputs": [
    {
     "data": {
      "text/plain": [
       "0.39166666666666666"
      ]
     },
     "execution_count": 8,
     "metadata": {},
     "output_type": "execute_result"
    }
   ],
   "source": [
    "testimonial.sentiment.polarity"
   ]
  },
  {
   "cell_type": "code",
   "execution_count": 9,
   "metadata": {},
   "outputs": [],
   "source": [
    "reviews = pd.read_csv(\"../data/reviews.csv\")"
   ]
  },
  {
   "cell_type": "code",
   "execution_count": 10,
   "metadata": {},
   "outputs": [
    {
     "data": {
      "text/html": [
       "<div>\n",
       "<style scoped>\n",
       "    .dataframe tbody tr th:only-of-type {\n",
       "        vertical-align: middle;\n",
       "    }\n",
       "\n",
       "    .dataframe tbody tr th {\n",
       "        vertical-align: top;\n",
       "    }\n",
       "\n",
       "    .dataframe thead th {\n",
       "        text-align: right;\n",
       "    }\n",
       "</style>\n",
       "<table border=\"1\" class=\"dataframe\">\n",
       "  <thead>\n",
       "    <tr style=\"text-align: right;\">\n",
       "      <th></th>\n",
       "      <th>listing_id</th>\n",
       "      <th>id</th>\n",
       "      <th>date</th>\n",
       "      <th>reviewer_id</th>\n",
       "      <th>reviewer_name</th>\n",
       "      <th>comments</th>\n",
       "    </tr>\n",
       "  </thead>\n",
       "  <tbody>\n",
       "    <tr>\n",
       "      <th>0</th>\n",
       "      <td>1419</td>\n",
       "      <td>38924112</td>\n",
       "      <td>2015-07-19</td>\n",
       "      <td>11308465</td>\n",
       "      <td>Marcela</td>\n",
       "      <td>Having the opportunity of arriving to Alexandr...</td>\n",
       "    </tr>\n",
       "    <tr>\n",
       "      <th>1</th>\n",
       "      <td>1419</td>\n",
       "      <td>44791978</td>\n",
       "      <td>2015-08-29</td>\n",
       "      <td>9580285</td>\n",
       "      <td>Marco</td>\n",
       "      <td>We have no enough words to describe how beauty...</td>\n",
       "    </tr>\n",
       "    <tr>\n",
       "      <th>2</th>\n",
       "      <td>1419</td>\n",
       "      <td>45957133</td>\n",
       "      <td>2015-09-07</td>\n",
       "      <td>38394721</td>\n",
       "      <td>Andrea</td>\n",
       "      <td>The listing was exceptional and an even better...</td>\n",
       "    </tr>\n",
       "    <tr>\n",
       "      <th>3</th>\n",
       "      <td>1419</td>\n",
       "      <td>67295154</td>\n",
       "      <td>2016-03-28</td>\n",
       "      <td>3515044</td>\n",
       "      <td>Shaun</td>\n",
       "      <td>Alexandra's home was amazing and in such a nea...</td>\n",
       "    </tr>\n",
       "    <tr>\n",
       "      <th>4</th>\n",
       "      <td>1419</td>\n",
       "      <td>177702208</td>\n",
       "      <td>2017-08-03</td>\n",
       "      <td>13987100</td>\n",
       "      <td>Kate</td>\n",
       "      <td>Beautiful home. Very comfortable and clean. Pe...</td>\n",
       "    </tr>\n",
       "  </tbody>\n",
       "</table>\n",
       "</div>"
      ],
      "text/plain": [
       "   listing_id         id        date  reviewer_id reviewer_name  \\\n",
       "0        1419   38924112  2015-07-19     11308465       Marcela   \n",
       "1        1419   44791978  2015-08-29      9580285         Marco   \n",
       "2        1419   45957133  2015-09-07     38394721        Andrea   \n",
       "3        1419   67295154  2016-03-28      3515044         Shaun   \n",
       "4        1419  177702208  2017-08-03     13987100          Kate   \n",
       "\n",
       "                                            comments  \n",
       "0  Having the opportunity of arriving to Alexandr...  \n",
       "1  We have no enough words to describe how beauty...  \n",
       "2  The listing was exceptional and an even better...  \n",
       "3  Alexandra's home was amazing and in such a nea...  \n",
       "4  Beautiful home. Very comfortable and clean. Pe...  "
      ]
     },
     "execution_count": 10,
     "metadata": {},
     "output_type": "execute_result"
    }
   ],
   "source": [
    "reviews.head()"
   ]
  },
  {
   "cell_type": "code",
   "execution_count": 12,
   "metadata": {},
   "outputs": [],
   "source": [
    "tb = TextBlob(reviews.iloc[0][\"comments\"])"
   ]
  },
  {
   "cell_type": "code",
   "execution_count": 14,
   "metadata": {},
   "outputs": [
    {
     "data": {
      "text/plain": [
       "0.4101041666666667"
      ]
     },
     "execution_count": 14,
     "metadata": {},
     "output_type": "execute_result"
    }
   ],
   "source": [
    "tb.sentiment.polarity"
   ]
  },
  {
   "cell_type": "code",
   "execution_count": 18,
   "metadata": {},
   "outputs": [],
   "source": [
    "reviews[\"sentiment\"] = reviews[\"comments\"].map(lambda x: TextBlob(str(x)).polarity)"
   ]
  },
  {
   "cell_type": "code",
   "execution_count": 19,
   "metadata": {},
   "outputs": [],
   "source": [
    "reviews[\"subjectivity\"] = reviews[\"comments\"].map(lambda x: TextBlob(str(x)).subjectivity)"
   ]
  },
  {
   "cell_type": "code",
   "execution_count": 20,
   "metadata": {},
   "outputs": [
    {
     "data": {
      "text/html": [
       "<div>\n",
       "<style scoped>\n",
       "    .dataframe tbody tr th:only-of-type {\n",
       "        vertical-align: middle;\n",
       "    }\n",
       "\n",
       "    .dataframe tbody tr th {\n",
       "        vertical-align: top;\n",
       "    }\n",
       "\n",
       "    .dataframe thead th {\n",
       "        text-align: right;\n",
       "    }\n",
       "</style>\n",
       "<table border=\"1\" class=\"dataframe\">\n",
       "  <thead>\n",
       "    <tr style=\"text-align: right;\">\n",
       "      <th></th>\n",
       "      <th>listing_id</th>\n",
       "      <th>id</th>\n",
       "      <th>date</th>\n",
       "      <th>reviewer_id</th>\n",
       "      <th>reviewer_name</th>\n",
       "      <th>comments</th>\n",
       "      <th>sentiment</th>\n",
       "      <th>subjectivity</th>\n",
       "    </tr>\n",
       "  </thead>\n",
       "  <tbody>\n",
       "    <tr>\n",
       "      <th>0</th>\n",
       "      <td>1419</td>\n",
       "      <td>38924112</td>\n",
       "      <td>2015-07-19</td>\n",
       "      <td>11308465</td>\n",
       "      <td>Marcela</td>\n",
       "      <td>Having the opportunity of arriving to Alexandr...</td>\n",
       "      <td>0.410104</td>\n",
       "      <td>0.699479</td>\n",
       "    </tr>\n",
       "    <tr>\n",
       "      <th>1</th>\n",
       "      <td>1419</td>\n",
       "      <td>44791978</td>\n",
       "      <td>2015-08-29</td>\n",
       "      <td>9580285</td>\n",
       "      <td>Marco</td>\n",
       "      <td>We have no enough words to describe how beauty...</td>\n",
       "      <td>0.266667</td>\n",
       "      <td>0.683333</td>\n",
       "    </tr>\n",
       "    <tr>\n",
       "      <th>2</th>\n",
       "      <td>1419</td>\n",
       "      <td>45957133</td>\n",
       "      <td>2015-09-07</td>\n",
       "      <td>38394721</td>\n",
       "      <td>Andrea</td>\n",
       "      <td>The listing was exceptional and an even better...</td>\n",
       "      <td>0.576111</td>\n",
       "      <td>0.717361</td>\n",
       "    </tr>\n",
       "    <tr>\n",
       "      <th>3</th>\n",
       "      <td>1419</td>\n",
       "      <td>67295154</td>\n",
       "      <td>2016-03-28</td>\n",
       "      <td>3515044</td>\n",
       "      <td>Shaun</td>\n",
       "      <td>Alexandra's home was amazing and in such a nea...</td>\n",
       "      <td>0.295000</td>\n",
       "      <td>0.563333</td>\n",
       "    </tr>\n",
       "    <tr>\n",
       "      <th>4</th>\n",
       "      <td>1419</td>\n",
       "      <td>177702208</td>\n",
       "      <td>2017-08-03</td>\n",
       "      <td>13987100</td>\n",
       "      <td>Kate</td>\n",
       "      <td>Beautiful home. Very comfortable and clean. Pe...</td>\n",
       "      <td>0.502963</td>\n",
       "      <td>0.740000</td>\n",
       "    </tr>\n",
       "  </tbody>\n",
       "</table>\n",
       "</div>"
      ],
      "text/plain": [
       "   listing_id         id        date  reviewer_id reviewer_name  \\\n",
       "0        1419   38924112  2015-07-19     11308465       Marcela   \n",
       "1        1419   44791978  2015-08-29      9580285         Marco   \n",
       "2        1419   45957133  2015-09-07     38394721        Andrea   \n",
       "3        1419   67295154  2016-03-28      3515044         Shaun   \n",
       "4        1419  177702208  2017-08-03     13987100          Kate   \n",
       "\n",
       "                                            comments  sentiment  subjectivity  \n",
       "0  Having the opportunity of arriving to Alexandr...   0.410104      0.699479  \n",
       "1  We have no enough words to describe how beauty...   0.266667      0.683333  \n",
       "2  The listing was exceptional and an even better...   0.576111      0.717361  \n",
       "3  Alexandra's home was amazing and in such a nea...   0.295000      0.563333  \n",
       "4  Beautiful home. Very comfortable and clean. Pe...   0.502963      0.740000  "
      ]
     },
     "execution_count": 20,
     "metadata": {},
     "output_type": "execute_result"
    }
   ],
   "source": [
    "reviews.head()"
   ]
  },
  {
   "cell_type": "code",
   "execution_count": 21,
   "metadata": {},
   "outputs": [],
   "source": [
    "reviews.to_csv(\"reviews_sentiment.csv\", index=False, header=True)"
   ]
  },
  {
   "cell_type": "code",
   "execution_count": 22,
   "metadata": {},
   "outputs": [
    {
     "name": "stdout",
     "output_type": "stream",
     "text": [
      "total 152272\r\n",
      "-rw-r--r-- 1 varun varun   3818480 Mar 19 21:25  Cleaning.ipynb\r\n",
      "-rw-r--r-- 1 varun varun     13379 Mar 19 20:52 'Discussion with Meghan.docx'\r\n",
      "-rw-r--r-- 1 varun varun       553 Mar 19 20:52 'Discussion with Meghan.txt'\r\n",
      "-rwxr-xr-x 1 varun varun       642 Mar 16 11:18  download.sh\r\n",
      "-rw-r--r-- 1 varun varun     80204 Mar 19 21:25 'EDA - Listings.ipynb'\r\n",
      "-rw-r--r-- 1 varun varun     16279 Mar 19 22:33 'EDA - reviews.ipynb'\r\n",
      "-rw-r--r-- 1 varun varun       205 Mar 19 20:52 'Framework for proposal doc.txt'\r\n",
      "-rw-r--r-- 1 varun varun     37838 Mar 21 19:46  gensim.ipynb\r\n",
      "drwxr-xr-x 2 varun varun      4096 Mar 21 10:07  lsa_sports_food_docs\r\n",
      "-rw-r--r-- 1 varun varun     11682 Mar 16 23:29 'ML1030 Executive Summary v0.01.docx'\r\n",
      "-rw-r--r-- 1 varun varun     11721 Mar 17 14:58 'ML1030 Project Proposal.docx'\r\n",
      "-rw-r--r-- 1 varun varun     11678 Mar 16 23:29 'ML1030 Report.docx'\r\n",
      "-rw-r--r-- 1 varun varun     12659 Mar 19 21:25  nlp.ipynb\r\n",
      "-rw-r--r-- 1 varun varun     10828 Mar 20 19:42 'NLTK Sentiment Analysis.ipynb'\r\n",
      "-rw-r--r-- 1 varun varun     84280 Mar 21 19:01  prices.ipynb\r\n",
      "-rw-r--r-- 1 varun varun         8 Mar 16 13:32  README.md\r\n",
      "-rw-r--r-- 1 varun varun 151717807 Mar 22 19:42  reviews_sentiment.csv\r\n",
      "-rw-r--r-- 1 varun varun       628 Mar 19 20:52 'Running list of ideas.txt'\r\n",
      "-rw-r--r-- 1 varun varun      1068 Mar 21 09:53  sample.txt\r\n",
      "-rw-r--r-- 1 varun varun      3295 Mar 20 19:48 'Sentiment Analysis.ipynb'\r\n",
      "-rw-r--r-- 1 varun varun      9865 Mar 20 22:06 'Sentiment Analysis Take 2.ipynb'\r\n",
      "-rw-r--r-- 1 varun varun     10675 Mar 22 19:41  SentimentAnalysis_textblob.ipynb\r\n",
      "-rw-r--r-- 1 varun varun       698 Mar 21 20:16 'Task breakup'\r\n",
      "-rw-r--r-- 1 varun varun      4774 Mar 20 23:12 'Topic Modeling.ipynb'\r\n",
      "drwxr-xr-x 2 varun varun      4096 Mar 16 15:45  tps\r\n"
     ]
    }
   ],
   "source": [
    "!ls -l"
   ]
  },
  {
   "cell_type": "code",
   "execution_count": null,
   "metadata": {},
   "outputs": [],
   "source": []
  }
 ],
 "metadata": {
  "kernelspec": {
   "display_name": "Python 3",
   "language": "python",
   "name": "python3"
  },
  "language_info": {
   "codemirror_mode": {
    "name": "ipython",
    "version": 3
   },
   "file_extension": ".py",
   "mimetype": "text/x-python",
   "name": "python",
   "nbconvert_exporter": "python",
   "pygments_lexer": "ipython3",
   "version": "3.6.7"
  }
 },
 "nbformat": 4,
 "nbformat_minor": 2
}
